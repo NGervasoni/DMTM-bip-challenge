{
 "cells": [
  {
   "cell_type": "markdown",
   "metadata": {},
   "source": [
    "# PREPROCESSING"
   ]
  },
  {
   "cell_type": "code",
   "execution_count": 1,
   "metadata": {},
   "outputs": [],
   "source": [
    "import pandas as pd\n",
    "import numpy as np\n",
    "import datetime as dt\n",
    "from IPython.display import clear_output"
   ]
  },
  {
   "cell_type": "code",
   "execution_count": 2,
   "metadata": {
    "scrolled": true
   },
   "outputs": [],
   "source": [
    "# load csvs to dataframe\n",
    "df_train = pd.read_csv('train.csv')\n",
    "df_test = pd.read_csv('test.csv')\n",
    "len_test = len(df_test)\n",
    "\n",
    "# we need both for the temporal features\n",
    "df = pd.concat([df_train, df_test], ignore_index=True)"
   ]
  },
  {
   "cell_type": "code",
   "execution_count": 3,
   "metadata": {},
   "outputs": [
    {
     "data": {
      "text/html": [
       "<div>\n",
       "<style scoped>\n",
       "    .dataframe tbody tr th:only-of-type {\n",
       "        vertical-align: middle;\n",
       "    }\n",
       "\n",
       "    .dataframe tbody tr th {\n",
       "        vertical-align: top;\n",
       "    }\n",
       "\n",
       "    .dataframe thead th {\n",
       "        text-align: right;\n",
       "    }\n",
       "</style>\n",
       "<table border=\"1\" class=\"dataframe\">\n",
       "  <thead>\n",
       "    <tr style=\"text-align: right;\">\n",
       "      <th></th>\n",
       "      <th>AssortmentType</th>\n",
       "      <th>CloudCover</th>\n",
       "      <th>Date</th>\n",
       "      <th>Events</th>\n",
       "      <th>HasPromotions</th>\n",
       "      <th>IsHoliday</th>\n",
       "      <th>IsOpen</th>\n",
       "      <th>Max_Dew_PointC</th>\n",
       "      <th>Max_Gust_SpeedKm_h</th>\n",
       "      <th>Max_Humidity</th>\n",
       "      <th>...</th>\n",
       "      <th>NumberOfCustomers</th>\n",
       "      <th>NumberOfSales</th>\n",
       "      <th>Precipitationmm</th>\n",
       "      <th>Region</th>\n",
       "      <th>Region_AreaKM2</th>\n",
       "      <th>Region_GDP</th>\n",
       "      <th>Region_PopulationK</th>\n",
       "      <th>StoreID</th>\n",
       "      <th>StoreType</th>\n",
       "      <th>WindDirDegrees</th>\n",
       "    </tr>\n",
       "  </thead>\n",
       "  <tbody>\n",
       "    <tr>\n",
       "      <th>0</th>\n",
       "      <td>General</td>\n",
       "      <td>8.0</td>\n",
       "      <td>01/03/2016</td>\n",
       "      <td>Rain-Snow</td>\n",
       "      <td>0</td>\n",
       "      <td>0</td>\n",
       "      <td>1</td>\n",
       "      <td>1</td>\n",
       "      <td>NaN</td>\n",
       "      <td>100</td>\n",
       "      <td>...</td>\n",
       "      <td>495.0</td>\n",
       "      <td>5676.0</td>\n",
       "      <td>0.0</td>\n",
       "      <td>7</td>\n",
       "      <td>9643</td>\n",
       "      <td>17130</td>\n",
       "      <td>2770</td>\n",
       "      <td>1000</td>\n",
       "      <td>Hyper Market</td>\n",
       "      <td>23</td>\n",
       "    </tr>\n",
       "    <tr>\n",
       "      <th>1</th>\n",
       "      <td>General</td>\n",
       "      <td>8.0</td>\n",
       "      <td>02/03/2016</td>\n",
       "      <td>Snow</td>\n",
       "      <td>0</td>\n",
       "      <td>0</td>\n",
       "      <td>1</td>\n",
       "      <td>0</td>\n",
       "      <td>NaN</td>\n",
       "      <td>87</td>\n",
       "      <td>...</td>\n",
       "      <td>608.0</td>\n",
       "      <td>8111.0</td>\n",
       "      <td>0.0</td>\n",
       "      <td>7</td>\n",
       "      <td>9643</td>\n",
       "      <td>17130</td>\n",
       "      <td>2770</td>\n",
       "      <td>1000</td>\n",
       "      <td>Hyper Market</td>\n",
       "      <td>56</td>\n",
       "    </tr>\n",
       "    <tr>\n",
       "      <th>2</th>\n",
       "      <td>General</td>\n",
       "      <td>8.0</td>\n",
       "      <td>04/03/2016</td>\n",
       "      <td>Rain</td>\n",
       "      <td>0</td>\n",
       "      <td>0</td>\n",
       "      <td>1</td>\n",
       "      <td>0</td>\n",
       "      <td>NaN</td>\n",
       "      <td>81</td>\n",
       "      <td>...</td>\n",
       "      <td>665.0</td>\n",
       "      <td>8300.0</td>\n",
       "      <td>0.0</td>\n",
       "      <td>7</td>\n",
       "      <td>9643</td>\n",
       "      <td>17130</td>\n",
       "      <td>2770</td>\n",
       "      <td>1000</td>\n",
       "      <td>Hyper Market</td>\n",
       "      <td>22</td>\n",
       "    </tr>\n",
       "    <tr>\n",
       "      <th>3</th>\n",
       "      <td>General</td>\n",
       "      <td>6.0</td>\n",
       "      <td>05/03/2016</td>\n",
       "      <td>NaN</td>\n",
       "      <td>0</td>\n",
       "      <td>0</td>\n",
       "      <td>1</td>\n",
       "      <td>-3</td>\n",
       "      <td>NaN</td>\n",
       "      <td>80</td>\n",
       "      <td>...</td>\n",
       "      <td>630.0</td>\n",
       "      <td>7154.0</td>\n",
       "      <td>0.0</td>\n",
       "      <td>7</td>\n",
       "      <td>9643</td>\n",
       "      <td>17130</td>\n",
       "      <td>2770</td>\n",
       "      <td>1000</td>\n",
       "      <td>Hyper Market</td>\n",
       "      <td>108</td>\n",
       "    </tr>\n",
       "    <tr>\n",
       "      <th>4</th>\n",
       "      <td>General</td>\n",
       "      <td>6.0</td>\n",
       "      <td>06/03/2016</td>\n",
       "      <td>NaN</td>\n",
       "      <td>0</td>\n",
       "      <td>0</td>\n",
       "      <td>0</td>\n",
       "      <td>0</td>\n",
       "      <td>NaN</td>\n",
       "      <td>93</td>\n",
       "      <td>...</td>\n",
       "      <td>0.0</td>\n",
       "      <td>0.0</td>\n",
       "      <td>0.0</td>\n",
       "      <td>7</td>\n",
       "      <td>9643</td>\n",
       "      <td>17130</td>\n",
       "      <td>2770</td>\n",
       "      <td>1000</td>\n",
       "      <td>Hyper Market</td>\n",
       "      <td>46</td>\n",
       "    </tr>\n",
       "  </tbody>\n",
       "</table>\n",
       "<p>5 rows × 36 columns</p>\n",
       "</div>"
      ],
      "text/plain": [
       "  AssortmentType  CloudCover        Date     Events  HasPromotions  IsHoliday  \\\n",
       "0        General         8.0  01/03/2016  Rain-Snow              0          0   \n",
       "1        General         8.0  02/03/2016       Snow              0          0   \n",
       "2        General         8.0  04/03/2016       Rain              0          0   \n",
       "3        General         6.0  05/03/2016        NaN              0          0   \n",
       "4        General         6.0  06/03/2016        NaN              0          0   \n",
       "\n",
       "   IsOpen  Max_Dew_PointC  Max_Gust_SpeedKm_h  Max_Humidity       ...        \\\n",
       "0       1               1                 NaN           100       ...         \n",
       "1       1               0                 NaN            87       ...         \n",
       "2       1               0                 NaN            81       ...         \n",
       "3       1              -3                 NaN            80       ...         \n",
       "4       0               0                 NaN            93       ...         \n",
       "\n",
       "   NumberOfCustomers  NumberOfSales  Precipitationmm  Region  Region_AreaKM2  \\\n",
       "0              495.0         5676.0              0.0       7            9643   \n",
       "1              608.0         8111.0              0.0       7            9643   \n",
       "2              665.0         8300.0              0.0       7            9643   \n",
       "3              630.0         7154.0              0.0       7            9643   \n",
       "4                0.0            0.0              0.0       7            9643   \n",
       "\n",
       "   Region_GDP  Region_PopulationK  StoreID     StoreType  WindDirDegrees  \n",
       "0       17130                2770     1000  Hyper Market              23  \n",
       "1       17130                2770     1000  Hyper Market              56  \n",
       "2       17130                2770     1000  Hyper Market              22  \n",
       "3       17130                2770     1000  Hyper Market             108  \n",
       "4       17130                2770     1000  Hyper Market              46  \n",
       "\n",
       "[5 rows x 36 columns]"
      ]
     },
     "execution_count": 3,
     "metadata": {},
     "output_type": "execute_result"
    }
   ],
   "source": [
    "df.head()"
   ]
  },
  {
   "cell_type": "code",
   "execution_count": 4,
   "metadata": {},
   "outputs": [
    {
     "data": {
      "text/plain": [
       "AssortmentType                     General\n",
       "CloudCover                               8\n",
       "Date                            01/03/2016\n",
       "Events                           Rain-Snow\n",
       "HasPromotions                            0\n",
       "IsHoliday                                0\n",
       "IsOpen                                   1\n",
       "Max_Dew_PointC                           1\n",
       "Max_Gust_SpeedKm_h                     NaN\n",
       "Max_Humidity                           100\n",
       "Max_Sea_Level_PressurehPa             1032\n",
       "Max_TemperatureC                         2\n",
       "Max_VisibilityKm                        19\n",
       "Max_Wind_SpeedKm_h                      21\n",
       "Mean_Dew_PointC                         -1\n",
       "Mean_Humidity                           82\n",
       "Mean_Sea_Level_PressurehPa            1030\n",
       "Mean_TemperatureC                        1\n",
       "Mean_VisibilityKm                       11\n",
       "Mean_Wind_SpeedKm_h                     16\n",
       "Min_Dew_PointC                          -2\n",
       "Min_Humidity                            70\n",
       "Min_Sea_Level_PressurehPa             1029\n",
       "Min_TemperatureC                         1\n",
       "Min_VisibilitykM                         6\n",
       "NearestCompetitor                      326\n",
       "NumberOfCustomers                      495\n",
       "NumberOfSales                         5676\n",
       "Precipitationmm                          0\n",
       "Region                                   7\n",
       "Region_AreaKM2                        9643\n",
       "Region_GDP                           17130\n",
       "Region_PopulationK                    2770\n",
       "StoreID                               1000\n",
       "StoreType                     Hyper Market\n",
       "WindDirDegrees                          23\n",
       "Name: 0, dtype: object"
      ]
     },
     "execution_count": 4,
     "metadata": {},
     "output_type": "execute_result"
    }
   ],
   "source": [
    "# show sample row\n",
    "df.iloc[0]"
   ]
  },
  {
   "cell_type": "code",
   "execution_count": 5,
   "metadata": {},
   "outputs": [
    {
     "name": "stdout",
     "output_type": "stream",
     "text": [
      "Working on row 560000\n"
     ]
    }
   ],
   "source": [
    "## Missing Values\n",
    "# cloud coverage: 0 if no events, 8 if events\n",
    "for row in range(len(df)):\n",
    "    if row % 10000 == 0:\n",
    "        clear_output()\n",
    "        print(\"Working on row {}\".format(row))\n",
    "    if np.isnan(df.loc[row, 'CloudCover']):\n",
    "        if df.loc[row, 'Events'] is np.nan:\n",
    "            df.loc[row, 'CloudCover'] = 0\n",
    "        else:\n",
    "            df.loc[row, 'CloudCover'] = 8\n",
    "\n",
    "# max gust speed = max wind speed\n",
    "df.Max_Gust_SpeedKm_h = df.Max_Gust_SpeedKm_h.fillna(df.Max_Wind_SpeedKm_h)"
   ]
  },
  {
   "cell_type": "code",
   "execution_count": 6,
   "metadata": {},
   "outputs": [],
   "source": [
    "## Date Features\n",
    "# convert date to datetime\n",
    "df['Date'] = pd.to_datetime(df['Date'], format='%d/%m/%Y')\n",
    "\n",
    "# add features\n",
    "# df['DayN']=df['Date'].dt.dayofyear    # non credo possa servire\n",
    "df['DayOfWeek']=df['Date'].dt.dayofweek\n",
    "df['Month']=df['Date'].dt.month\n",
    "df['Week']=df['Date'].dt.weekofyear\n",
    "df['Quarter']=df['Date'].dt.quarter\n"
   ]
  },
  {
   "cell_type": "code",
   "execution_count": 1,
   "metadata": {},
   "outputs": [],
   "source": [
    "## Temporal Features\n",
    "# create columns\n",
    "df['IsOpen_yesterday'] = np.empty(len(df))\n",
    "df['IsOpen_tomorrow'] = np.empty(len(df))\n",
    "df['IsHoliday_yesterday'] = np.empty(len(df))\n",
    "df['IsHoliday_tomorrow'] = np.empty(len(df))\n",
    "df['NumberOfSales_yesterday'] = np.empty(len(df))\n",
    "df['NumberOfSales_lastweek'] = np.empty(len(df))\n",
    "df['NumberOfSales_lastmonth'] = np.empty(len(df))\n",
    "\n",
    "for store in df.StoreID.unique():\n",
    "    clear_output()\n",
    "    print(\"Working on {}\".format(store))\n",
    "    temp = df.loc[df.StoreID == store]\n",
    "    # switch index to timestamps to make this easier\n",
    "    oldindex = temp.index\n",
    "    temp.index = temp['Date']\n",
    "    \n",
    "    temp['IsOpen_yesterday'] = temp.IsOpen.rolling(window='1d',closed='left', min_periods=1).sum()\n",
    "    temp['IsOpen_tomorrow'] = temp.IsOpen.rolling(window='1d',closed='left', min_periods=1).sum().shift(-2, '1d')\n",
    "    temp['IsHoliday_yesterday'] = temp.IsHoliday.rolling(window='1d',closed='left', min_periods=1).sum()\n",
    "    temp['IsHoliday_tomorrow'] = temp.IsHoliday.rolling(window='1d',closed='left', min_periods=1).sum().shift(-2, '1d')\n",
    "    temp['NumberOfSales_yesterday'] = temp.NumberOfSales.rolling(window='1d',closed='left', min_periods=1).sum()\n",
    "    temp['NumberOfSales_lastweek'] = temp.NumberOfSales.rolling(window='7d',closed='left', min_periods=1).sum()\n",
    "    temp['NumberOfSales_lastmonth'] = temp.NumberOfSales.rolling(window='30d',closed='left', min_periods=1).sum()\n",
    "    \n",
    "    # put it back in the dataframe\n",
    "    temp.index = oldindex\n",
    "    df.loc[df.StoreID == store] = temp\n",
    "    \n",
    "# Attenzione: i valori di tomorrow nel test sono sputtanati a NaN\n",
    "# vanno messi a mano qui o cambiato il modo di calcolo\n",
    "    \n",
    "# drop rows at the beginning where we have no past information\n",
    "# NB: possiamo fare a meno se togliamo quelle feature\n",
    "df = df.iloc[30:]"
   ]
  },
  {
   "cell_type": "code",
   "execution_count": null,
   "metadata": {},
   "outputs": [],
   "source": [
    "# One-Hot Encoding\n",
    "# nb: pd.get_dummies rimuove le colonne direttamente\n",
    "\n",
    "# ## StoreId\n",
    "# df = pd.get_dummies(df, columns=['StoreID'], prefix='StoreID')\n",
    "\n",
    " ## StoreType\n",
    "# df = pd.get_dummies(df, columns=['StoreType'], prefix='StoreType')\n",
    "\n",
    " ## AssortmentType\n",
    "# df = pd.get_dummies(df, columns=['AssortmentType'], prefix='AssortmentType')\n",
    "\n",
    "# ## Region\n",
    "# df = pd.get_dummies(df, columns=['Region'], prefix='Region')\n",
    "\n",
    "# ## Events\n",
    "# df = pd.get_dummies(df, columns=['Events'], prefix='Events', dummy_na=True)\n",
    "### inutile se possiamo usare categorie con decision tree\n",
    "\n",
    "# numeric features to categories (strings)\n",
    "# df.StoreID = df.StoreID.astype(str)\n",
    "# df.Region = df.Region.astype(str)\n"
   ]
  },
  {
   "cell_type": "code",
   "execution_count": null,
   "metadata": {},
   "outputs": [],
   "source": [
    "# Drop useless columns\n",
    "df = df.drop('Date', axis=1)\n",
    "df = df.drop('NumberOfCustomers', axis=1)  \n",
    "df = df.drop('WindDirDegrees', axis=1)\n",
    "\n",
    "# questi non cambiano mai, teniamo regione e population\n",
    "df = df.drop('Region_AreaKM2', axis=1)\n",
    "df = df.drop('Region_GDP', axis=1)\n",
    "#df = df.drop('Region_PopulationK', axis=1)"
   ]
  },
  {
   "cell_type": "code",
   "execution_count": null,
   "metadata": {},
   "outputs": [],
   "source": [
    "# Drop rows with IsOpen = 0\n",
    "# -> number of sales is always = 0 \n",
    "df = df[df.IsOpen == 1]"
   ]
  },
  {
   "cell_type": "code",
   "execution_count": null,
   "metadata": {},
   "outputs": [],
   "source": [
    "df.head()"
   ]
  },
  {
   "cell_type": "code",
   "execution_count": null,
   "metadata": {},
   "outputs": [],
   "source": [
    "print(list(df.columns))"
   ]
  },
  {
   "cell_type": "code",
   "execution_count": null,
   "metadata": {},
   "outputs": [],
   "source": [
    "# save preprocessed data\n",
    "df[:-len_test].to_csv('preprocessed_train.csv',index=False)\n",
    "df[-len_test:].to_csv('preprocessed_test.csv', index=False)"
   ]
  },
  {
   "cell_type": "code",
   "execution_count": 13,
   "metadata": {},
   "outputs": [],
   "source": [
    "### REMEMBER\n",
    "# le sales di testing vanno aggiunte e sistemate a runtime"
   ]
  },
  {
   "cell_type": "code",
   "execution_count": 14,
   "metadata": {},
   "outputs": [],
   "source": [
    "import numpy as np\n",
    "import matplotlib.pyplot as plt\n",
    "import pandas as pd\n",
    "import random\n",
    "\n",
    "from sklearn import datasets\n",
    "from sklearn import linear_model\n",
    "from sklearn import naive_bayes\n",
    "from sklearn import neighbors\n",
    "from sklearn import linear_model\n",
    "from sklearn.ensemble import ExtraTreesRegressor\n",
    "\n",
    "from sklearn.feature_selection import SelectFromModel\n",
    "from sklearn.feature_selection import VarianceThreshold\n",
    "\n",
    "from sklearn.decomposition import PCA\n",
    "\n",
    "from sklearn.model_selection import StratifiedKFold\n",
    "from sklearn.model_selection import KFold\n",
    "from sklearn.model_selection import cross_val_score\n"
   ]
  },
  {
   "cell_type": "markdown",
   "metadata": {},
   "source": [
    "# Features selection"
   ]
  },
  {
   "cell_type": "code",
   "execution_count": 19,
   "metadata": {},
   "outputs": [],
   "source": [
    "\n",
    "df = pd.read_csv('preprocessed_train.csv')\n"
   ]
  },
  {
   "cell_type": "code",
   "execution_count": 20,
   "metadata": {},
   "outputs": [],
   "source": [
    "# Sistemo i dati per regression tree\n",
    "\n",
    "# One-Hot Encoding \n",
    "# nb: pd.get_dummies rimuove le colonne direttamente\n",
    "\n",
    "# ## StoreId\n",
    "# df = pd.get_dummies(df, columns=['StoreID'], prefix='StoreID')\n",
    "\n",
    "df.drop('StoreID',axis=1)\n",
    "\n",
    " ## StoreType\n",
    "df = pd.get_dummies(df, columns=['StoreType'], prefix='StoreType')\n",
    "\n",
    " ## AssortmentType\n",
    "df = pd.get_dummies(df, columns=['AssortmentType'], prefix='AssortmentType')\n",
    "\n",
    "# ## Region\n",
    "df = pd.get_dummies(df, columns=['Region'], prefix='Region')\n",
    "\n",
    "# ## Events\n",
    "# df = pd.get_dummies(df, columns=['Events'], prefix='Events', dummy_na=True)\n",
    "### inutile se possiamo usare categorie con decision tree\n",
    "\n",
    "# numeric features to categories (strings)\n",
    "#df.StoreID = df.StoreID.astype(str)\n",
    "#df.Region = df.Region.astype(str)"
   ]
  },
  {
   "cell_type": "code",
   "execution_count": 21,
   "metadata": {},
   "outputs": [
    {
     "data": {
      "text/plain": [
       "CloudCover                                             6\n",
       "Events                                     Fog-Rain-Snow\n",
       "HasPromotions                                          1\n",
       "IsHoliday                                              1\n",
       "IsOpen                                                 0\n",
       "Max_Dew_PointC                                         0\n",
       "Max_Gust_SpeedKm_h                                    14\n",
       "Max_Humidity                                         100\n",
       "Max_Sea_Level_PressurehPa                           1009\n",
       "Max_TemperatureC                                       4\n",
       "Max_VisibilityKm                                      11\n",
       "Max_Wind_SpeedKm_h                                    14\n",
       "Mean_Dew_PointC                                       -2\n",
       "Mean_Humidity                                         78\n",
       "Mean_Sea_Level_PressurehPa                          1008\n",
       "Mean_TemperatureC                                      1\n",
       "Mean_VisibilityKm                                      7\n",
       "Mean_Wind_SpeedKm_h                                    6\n",
       "Min_Dew_PointC                                        -3\n",
       "Min_Humidity                                          52\n",
       "Min_Sea_Level_PressurehPa                           1006\n",
       "Min_TemperatureC                                      -2\n",
       "Min_VisibilitykM                                       2\n",
       "NearestCompetitor                                    326\n",
       "NumberOfSales                                          0\n",
       "Precipitationmm                                        0\n",
       "Region_PopulationK                                  2770\n",
       "StoreID                                             1000\n",
       "DayOfWeek                                              4\n",
       "Month                                                  4\n",
       "Week                                                  13\n",
       "Quarter                                                2\n",
       "IsOpen_yesterday                                       1\n",
       "IsOpen_tomorrow                                        1\n",
       "IsHoliday_yesterday                                    0\n",
       "IsHoliday_tomorrow                                     0\n",
       "NumberOfSales_yesterday                            11907\n",
       "NumberOfSales_lastweek                             51996\n",
       "NumberOfSales_lastmonth                           194456\n",
       "StoreType_Hyper Market                                 1\n",
       "StoreType_Shopping Center                              0\n",
       "StoreType_Standard Market                              0\n",
       "StoreType_Super Market                                 0\n",
       "AssortmentType_General                                 1\n",
       "AssortmentType_With Fish Department                    0\n",
       "AssortmentType_With Non-Food Department                0\n",
       "Region_0                                               0\n",
       "Region_1                                               0\n",
       "Region_2                                               0\n",
       "Region_3                                               0\n",
       "Region_4                                               0\n",
       "Region_5                                               0\n",
       "Region_6                                               0\n",
       "Region_7                                               1\n",
       "Region_8                                               0\n",
       "Region_9                                               0\n",
       "Region_10                                              0\n",
       "Name: 0, dtype: object"
      ]
     },
     "execution_count": 21,
     "metadata": {},
     "output_type": "execute_result"
    }
   ],
   "source": [
    "df.iloc[0]"
   ]
  },
  {
   "cell_type": "code",
   "execution_count": 22,
   "metadata": {},
   "outputs": [],
   "source": [
    "# No-Events (NaN) are considered as sunny days, with lowest value (0) on the events scale\n",
    "df['Events'] = df['Events'].fillna(0)"
   ]
  },
  {
   "cell_type": "code",
   "execution_count": 23,
   "metadata": {},
   "outputs": [
    {
     "data": {
      "text/plain": [
       "array([3, 0, 2, 1, 4])"
      ]
     },
     "execution_count": 23,
     "metadata": {},
     "output_type": "execute_result"
    }
   ],
   "source": [
    "df=df.replace({'Rain':1, 'Thunderstorm':1, 'Fog':1, 'Snow': 2, 'Fog-Rain': 2, 'Rain-Thunderstorm': 2, 'Rain-Snow':2, 'Fog-Snow':2, 'Fog-Rain-Snow':3, 'Rain-Hail':3, 'Snow-Hail':3, 'Rain-Snow-Hail':3, 'Fog-Rain-Hail':3, 'Fog-Thunderstorm':3, 'Fog-Rain-Thunderstorm':4, 'Fog-Snow-Hail':4, 'Fog-Rain-Snow-Hail':4, 'Rain-Snow-Thunderstorm':4, 'Rain-Hail-Thunderstorm':4, 'Fog-Rain-Hail-Thunderstorm':4, 'Rain-Snow-Hail-Thunderstorm':4})\n",
    "\n",
    "df['Events'].unique()"
   ]
  },
  {
   "cell_type": "code",
   "execution_count": 24,
   "metadata": {},
   "outputs": [
    {
     "data": {
      "text/plain": [
       "CloudCover                                      6.0\n",
       "Events                                          3.0\n",
       "HasPromotions                                   1.0\n",
       "IsHoliday                                       1.0\n",
       "IsOpen                                          0.0\n",
       "Max_Dew_PointC                                  0.0\n",
       "Max_Gust_SpeedKm_h                             14.0\n",
       "Max_Humidity                                  100.0\n",
       "Max_Sea_Level_PressurehPa                    1009.0\n",
       "Max_TemperatureC                                4.0\n",
       "Max_VisibilityKm                               11.0\n",
       "Max_Wind_SpeedKm_h                             14.0\n",
       "Mean_Dew_PointC                                -2.0\n",
       "Mean_Humidity                                  78.0\n",
       "Mean_Sea_Level_PressurehPa                   1008.0\n",
       "Mean_TemperatureC                               1.0\n",
       "Mean_VisibilityKm                               7.0\n",
       "Mean_Wind_SpeedKm_h                             6.0\n",
       "Min_Dew_PointC                                 -3.0\n",
       "Min_Humidity                                   52.0\n",
       "Min_Sea_Level_PressurehPa                    1006.0\n",
       "Min_TemperatureC                               -2.0\n",
       "Min_VisibilitykM                                2.0\n",
       "NearestCompetitor                             326.0\n",
       "NumberOfSales                                   0.0\n",
       "Precipitationmm                                 0.0\n",
       "Region_PopulationK                           2770.0\n",
       "StoreID                                      1000.0\n",
       "DayOfWeek                                       4.0\n",
       "Month                                           4.0\n",
       "Week                                           13.0\n",
       "Quarter                                         2.0\n",
       "IsOpen_yesterday                                1.0\n",
       "IsOpen_tomorrow                                 1.0\n",
       "IsHoliday_yesterday                             0.0\n",
       "IsHoliday_tomorrow                              0.0\n",
       "NumberOfSales_yesterday                     11907.0\n",
       "NumberOfSales_lastweek                      51996.0\n",
       "NumberOfSales_lastmonth                    194456.0\n",
       "StoreType_Hyper Market                          1.0\n",
       "StoreType_Shopping Center                       0.0\n",
       "StoreType_Standard Market                       0.0\n",
       "StoreType_Super Market                          0.0\n",
       "AssortmentType_General                          1.0\n",
       "AssortmentType_With Fish Department             0.0\n",
       "AssortmentType_With Non-Food Department         0.0\n",
       "Region_0                                        0.0\n",
       "Region_1                                        0.0\n",
       "Region_2                                        0.0\n",
       "Region_3                                        0.0\n",
       "Region_4                                        0.0\n",
       "Region_5                                        0.0\n",
       "Region_6                                        0.0\n",
       "Region_7                                        1.0\n",
       "Region_8                                        0.0\n",
       "Region_9                                        0.0\n",
       "Region_10                                       0.0\n",
       "Name: 0, dtype: float64"
      ]
     },
     "execution_count": 24,
     "metadata": {},
     "output_type": "execute_result"
    }
   ],
   "source": [
    "df.iloc[0]"
   ]
  },
  {
   "cell_type": "code",
   "execution_count": 97,
   "metadata": {},
   "outputs": [],
   "source": [
    "# split trainset in data and target\n",
    "y = df[\"NumberOfSales\"]\n",
    "X = df.drop('NumberOfSales', axis=1)"
   ]
  },
  {
   "cell_type": "code",
   "execution_count": 119,
   "metadata": {},
   "outputs": [
    {
     "name": "stdout",
     "output_type": "stream",
     "text": [
      "Features with NaN:\n"
     ]
    }
   ],
   "source": [
    "# Looking for features with NaN values\n",
    "null_cols = []\n",
    "print('Features with NaN:')\n",
    "for col in X.columns:\n",
    "    if X[col].isnull().values.any():\n",
    "        print(col)\n",
    "        null_cols.append(col)"
   ]
  },
  {
   "cell_type": "code",
   "execution_count": 100,
   "metadata": {},
   "outputs": [],
   "source": [
    "# getting indices (rows) of all NaN values\n",
    "inds = pd.isnull(X).any(1).nonzero()[0]"
   ]
  },
  {
   "cell_type": "code",
   "execution_count": 101,
   "metadata": {},
   "outputs": [],
   "source": [
    "# drop all the rows with NaN values\n",
    "y = y.drop(y.index[inds])\n",
    "X = X.drop(X.index[inds])"
   ]
  },
  {
   "cell_type": "code",
   "execution_count": 106,
   "metadata": {},
   "outputs": [
    {
     "name": "stdout",
     "output_type": "stream",
     "text": [
      "X: (509034, 56)\n",
      "y: (509034,)\n"
     ]
    }
   ],
   "source": [
    "# checking shapes\n",
    "print('X: ' + str(X.shape))\n",
    "print('y: ' + str(y.shape))"
   ]
  },
  {
   "cell_type": "markdown",
   "metadata": {},
   "source": [
    "## Forest-Based features selection"
   ]
  },
  {
   "cell_type": "code",
   "execution_count": 107,
   "metadata": {},
   "outputs": [
    {
     "data": {
      "text/plain": [
       "ExtraTreesRegressor(bootstrap=False, criterion='mse', max_depth=None,\n",
       "          max_features='auto', max_leaf_nodes=None,\n",
       "          min_impurity_decrease=0.0, min_impurity_split=None,\n",
       "          min_samples_leaf=1, min_samples_split=2,\n",
       "          min_weight_fraction_leaf=0.0, n_estimators=250, n_jobs=1,\n",
       "          oob_score=False, random_state=0, verbose=0, warm_start=False)"
      ]
     },
     "execution_count": 107,
     "metadata": {},
     "output_type": "execute_result"
    }
   ],
   "source": [
    "# fit random forest with 250 trees\n",
    "forest = ExtraTreesRegressor(n_estimators=250, random_state=0)\n",
    "forest.fit(X, y)"
   ]
  },
  {
   "cell_type": "code",
   "execution_count": 110,
   "metadata": {},
   "outputs": [
    {
     "name": "stdout",
     "output_type": "stream",
     "text": [
      "Feature ranking:\n",
      "1. feature 4 IsOpen (0.452942)\n",
      "2. feature 37 NumberOfSales_lastmonth (0.175720)\n",
      "3. feature 36 NumberOfSales_lastweek (0.111491)\n",
      "4. feature 35 NumberOfSales_yesterday (0.069514)\n",
      "5. feature 2 HasPromotions (0.069014)\n",
      "6. feature 31 IsOpen_yesterday (0.032198)\n",
      "7. feature 27 DayOfWeek (0.009026)\n",
      "8. feature 23 NearestCompetitor (0.005028)\n",
      "9. feature 26 StoreID (0.004834)\n",
      "10. feature 29 Week (0.004728)\n",
      "11. feature 32 IsOpen_tomorrow (0.004465)\n",
      "12. feature 38 StoreType_Hyper Market (0.003667)\n",
      "13. feature 34 IsHoliday_tomorrow (0.003395)\n",
      "14. feature 28 Month (0.003359)\n",
      "15. feature 33 IsHoliday_yesterday (0.002364)\n",
      "16. feature 45 Region_0 (0.001942)\n",
      "17. feature 8 Max_Sea_Level_PressurehPa (0.001651)\n",
      "18. feature 20 Min_Sea_Level_PressurehPa (0.001599)\n",
      "19. feature 42 AssortmentType_General (0.001584)\n",
      "20. feature 17 Mean_Wind_SpeedKm_h (0.001584)\n",
      "21. feature 50 Region_5 (0.001548)\n",
      "22. feature 14 Mean_Sea_Level_PressurehPa (0.001542)\n",
      "23. feature 30 Quarter (0.001532)\n",
      "24. feature 9 Max_TemperatureC (0.001525)\n",
      "25. feature 41 StoreType_Super Market (0.001418)\n",
      "26. feature 18 Min_Dew_PointC (0.001375)\n",
      "27. feature 5 Max_Dew_PointC (0.001356)\n",
      "28. feature 19 Min_Humidity (0.001353)\n",
      "29. feature 48 Region_3 (0.001336)\n",
      "30. feature 12 Mean_Dew_PointC (0.001320)\n",
      "31. feature 6 Max_Gust_SpeedKm_h (0.001316)\n",
      "32. feature 21 Min_TemperatureC (0.001285)\n",
      "33. feature 0 CloudCover (0.001283)\n",
      "34. feature 15 Mean_TemperatureC (0.001266)\n",
      "35. feature 24 Precipitationmm (0.001254)\n",
      "36. feature 44 AssortmentType_With Non-Food Department (0.001242)\n",
      "37. feature 11 Max_Wind_SpeedKm_h (0.001219)\n",
      "38. feature 25 Region_PopulationK (0.001213)\n",
      "39. feature 40 StoreType_Standard Market (0.001166)\n",
      "40. feature 13 Mean_Humidity (0.001148)\n",
      "41. feature 39 StoreType_Shopping Center (0.001128)\n",
      "42. feature 47 Region_2 (0.001099)\n",
      "43. feature 10 Max_VisibilityKm (0.001063)\n",
      "44. feature 16 Mean_VisibilityKm (0.001040)\n",
      "45. feature 22 Min_VisibilitykM (0.001039)\n",
      "46. feature 1 Events (0.001027)\n",
      "47. feature 7 Max_Humidity (0.001025)\n",
      "48. feature 54 Region_9 (0.000962)\n",
      "49. feature 46 Region_1 (0.000932)\n",
      "50. feature 55 Region_10 (0.000841)\n",
      "51. feature 49 Region_4 (0.000779)\n",
      "52. feature 3 IsHoliday (0.000577)\n",
      "53. feature 52 Region_7 (0.000564)\n",
      "54. feature 51 Region_6 (0.000522)\n",
      "55. feature 43 AssortmentType_With Fish Department (0.000307)\n",
      "56. feature 53 Region_8 (0.000293)\n"
     ]
    },
    {
     "data": {
      "image/png": "[encoded data removed]",
      "text/plain": [
       "<Figure size 432x288 with 1 Axes>"
      ]
     },
     "metadata": {},
     "output_type": "display_data"
    }
   ],
   "source": [
    "# preso pari pari dal notebook di Lanzi\n",
    "\n",
    "importances = forest.feature_importances_\n",
    "std = np.std([tree.feature_importances_ for tree in forest.estimators_],\n",
    "             axis=0)\n",
    "indices = np.argsort(importances)[::-1]\n",
    "\n",
    "# Print the feature ranking\n",
    "print(\"Feature ranking:\")\n",
    "\n",
    "for f in range(X.shape[1]):\n",
    "    print(\"%d. feature %d %s (%f)\" % (f + 1, indices[f], X.columns[indices[f]], importances[indices[f]]))\n",
    "\n",
    "# Plot the feature importances of the forest\n",
    "plt.figure()\n",
    "plt.title(\"Feature importances\")\n",
    "plt.bar(range(X.shape[1]), importances[indices],\n",
    "       color=\"r\", yerr=std[indices], align=\"center\")\n",
    "plt.xticks(range(X.shape[1]), X.columns[indices],rotation=90)\n",
    "plt.xlim([-1, X.shape[1]])\n",
    "plt.show()"
   ]
  },
  {
   "cell_type": "code",
   "execution_count": null,
   "metadata": {},
   "outputs": [],
   "source": [
    "feature_selection_model = SelectFromModel(forest, prefit=True)"
   ]
  },
  {
   "cell_type": "code",
   "execution_count": null,
   "metadata": {},
   "outputs": [],
   "source": [
    "X_selected_features_forest = feature_selection_model.transform(X)\n",
    "X_selected_features_forest.shape"
   ]
  },
  {
   "cell_type": "markdown",
   "metadata": {},
   "source": [
    "## PCA features selection"
   ]
  },
  {
   "cell_type": "code",
   "execution_count": 113,
   "metadata": {},
   "outputs": [],
   "source": [
    "from sklearn.decomposition import PCA\n",
    "%matplotlib inline\n",
    "\n",
    "full_pca_model = PCA()\n",
    "full_fitted_model = full_pca_model.fit(X)"
   ]
  },
  {
   "cell_type": "code",
   "execution_count": 114,
   "metadata": {},
   "outputs": [
    {
     "data": {
      "image/png": "[encoded data removed]",
      "text/plain": [
       "<Figure size 432x288 with 1 Axes>"
      ]
     },
     "metadata": {},
     "output_type": "display_data"
    }
   ],
   "source": [
    "plt.semilogy(full_fitted_model.explained_variance_ratio_, '--o');"
   ]
  },
  {
   "cell_type": "code",
   "execution_count": 117,
   "metadata": {},
   "outputs": [
    {
     "data": {
      "text/plain": [
       "Text(0,0.5,'Cumulative Explained Variance Ratio')"
      ]
     },
     "execution_count": 117,
     "metadata": {},
     "output_type": "execute_result"
    },
    {
     "data": {
      "image/png": "[encoded data removed]",
      "text/plain": [
       "<Figure size 432x288 with 1 Axes>"
      ]
     },
     "metadata": {},
     "output_type": "display_data"
    }
   ],
   "source": [
    "#Looking for a knee on the plot\n",
    "plt.semilogy(full_fitted_model.explained_variance_ratio_.cumsum(), '--o');\n",
    "plt.xticks(np.arange(0,56,1));\n",
    "plt.xlabel(\"Features\")\n",
    "plt.ylabel(\"Cumulative Explained Variance Ratio\")"
   ]
  },
  {
   "cell_type": "code",
   "execution_count": 118,
   "metadata": {},
   "outputs": [
    {
     "name": "stdout",
     "output_type": "stream",
     "text": [
      "Explained Variance: [ 0.93088033  0.05318771  0.01084148  0.00310474  0.00196642]\n",
      "Reduced data set shape is  (509034, 5)\n"
     ]
    }
   ],
   "source": [
    "# getting Principal (n) Components and reducing the dataset\n",
    "feature_selection_pca_model = PCA(n_components=5)\n",
    "fitted_model = feature_selection_pca_model.fit(X)\n",
    "X_selected_features_pca = fitted_model.transform(X)\n",
    "print(\"Explained Variance: %s\" % fitted_model.explained_variance_ratio_)\n",
    "print(\"Reduced data set shape is \", X_selected_features_pca.shape)"
   ]
  },
  {
   "cell_type": "markdown",
   "metadata": {},
   "source": [
    "# Cross Validation"
   ]
  },
  {
   "cell_type": "code",
   "execution_count": null,
   "metadata": {},
   "outputs": [],
   "source": [
    "#custom region error\n",
    "def region_error(region):\n",
    "    #TODO\n",
    "    "
   ]
  }
 ],
 "metadata": {
  "kernelspec": {
   "display_name": "Python 3",
   "language": "python",
   "name": "python3"
  },
  "language_info": {
   "codemirror_mode": {
    "name": "ipython",
    "version": 3
   },
   "file_extension": ".py",
   "mimetype": "text/x-python",
   "name": "python",
   "nbconvert_exporter": "python",
   "pygments_lexer": "ipython3",
   "version": "3.6.5"
  }
 },
 "nbformat": 4,
 "nbformat_minor": 2
}
