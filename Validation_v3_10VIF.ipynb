{
 "cells": [
  {
   "cell_type": "markdown",
   "metadata": {},
   "source": [
    "### TRAIN-TEST SPLIT"
   ]
  },
  {
   "cell_type": "code",
   "execution_count": 1,
   "metadata": {
    "scrolled": true
   },
   "outputs": [],
   "source": [
    "import pandas as pd\n",
    "import numpy as np\n",
    "import datetime as dt\n",
    "from IPython.display import clear_output\n",
    "from sklearn.ensemble import RandomForestRegressor"
   ]
  },
  {
   "cell_type": "code",
   "execution_count": 2,
   "metadata": {},
   "outputs": [],
   "source": [
    "def find_nan_features(df):\n",
    "    null_cols = []\n",
    "    for col in df.columns:\n",
    "        if df[col].isnull().values.any():\n",
    "            null_cols.append(col)\n",
    "    return null_cols"
   ]
  },
  {
   "cell_type": "code",
   "execution_count": 3,
   "metadata": {},
   "outputs": [],
   "source": [
    "def remove_nan_rows(df):\n",
    "    # getting indices (rows) of all NaN values\n",
    "    inds = pd.isnull(df).any(1).nonzero()[0]\n",
    "\n",
    "    # drop all the rows with NaN values\n",
    "    return df.drop(df.index[inds])"
   ]
  },
  {
   "cell_type": "code",
   "execution_count": 4,
   "metadata": {},
   "outputs": [],
   "source": [
    "def split(df, train_fraction):\n",
    "    mindate = df.Date.min()\n",
    "    maxdate = df.Date.max()\n",
    "    splitdate = mindate + (maxdate - mindate) * train_fraction\n",
    "    train = df[df.Date < splitdate]\n",
    "    test = df[df.Date >= splitdate]\n",
    "    return train, test"
   ]
  },
  {
   "cell_type": "code",
   "execution_count": 5,
   "metadata": {},
   "outputs": [],
   "source": [
    "def get_x_y(df):\n",
    "    # split set in data and target\n",
    "    X = df.drop('NumberOfSales', axis=1)\n",
    "    y = df[\"NumberOfSales\"]\n",
    "    return X, y"
   ]
  },
  {
   "cell_type": "code",
   "execution_count": 6,
   "metadata": {},
   "outputs": [],
   "source": [
    "def train_model(X_train, y_train):\n",
    "    # fit random forest with 250 trees\n",
    "    forest = RandomForestRegressor(n_estimators=250, random_state=0, n_jobs=3)\n",
    "    forest.fit(X_train, y_train)\n",
    "    return forest"
   ]
  },
  {
   "cell_type": "code",
   "execution_count": 7,
   "metadata": {},
   "outputs": [],
   "source": [
    "def bip_metric(X_val, y_val, y_pred, rows_region):\n",
    "\n",
    "    e_r = []\n",
    "    month_sum = []\n",
    "    # adjust shape\n",
    "    X_val = X_val.reset_index(drop=True)\n",
    "    X_val['Region'] = rows_region\n",
    "    X_val = pd.get_dummies(X_val, columns=['Region'], prefix='Region')\n",
    "    \n",
    "    y_pred = y_pred.tolist()\n",
    "    y_val = y_val.tolist()\n",
    "\n",
    "    for r in range(11):\n",
    "\n",
    "        region = 'Region_' + str(r)\n",
    "        d = X_val.loc[X_val[region] == 1]\n",
    "\n",
    "        error = 0\n",
    "        y_somma = 0\n",
    "  \n",
    "#  cycle through stores\n",
    "        for i in range(1000,1736): \n",
    "               \n",
    "            for m in range(1,13):\n",
    "                sum_pred_month = 0\n",
    "                sum_actual_month = 0\n",
    "                indexes = d.index[(d['StoreID'] == i) & (d['Month'] == m)].tolist()\n",
    "                \n",
    "                for j in indexes:\n",
    "           \n",
    "                    sum_pred_month += y_pred[j]\n",
    "                    sum_actual_month += y_val[j]\n",
    "\n",
    "                error += abs(sum_actual_month - sum_pred_month)\n",
    "                y_somma = y_somma + sum_actual_month\n",
    "\n",
    "    e_r.append(error/y_somma)\n",
    "\n",
    "    return sum(e_r)/len(e_r)"
   ]
  },
  {
   "cell_type": "code",
   "execution_count": 8,
   "metadata": {},
   "outputs": [],
   "source": [
    "def eval_model(X_val, y_val, model, val_id, months, rows_region):\n",
    "    y_pred = model.predict(X_val)\n",
    "    new_x_val = X_val \n",
    "    new_x_val['Month'] = months\n",
    "    new_x_val['StoreID'] = val_id\n",
    "    score = bip_metric(new_x_val, y_val, y_pred, rows_region)\n",
    "    return score"
   ]
  },
  {
   "cell_type": "markdown",
   "metadata": {},
   "source": [
    "### Load dataset"
   ]
  },
  {
   "cell_type": "code",
   "execution_count": 9,
   "metadata": {
    "scrolled": true
   },
   "outputs": [],
   "source": [
    "# load preprocessed csv to dataframe\n",
    "df = pd.read_csv('preprocessed_train.csv')"
   ]
  },
  {
   "cell_type": "markdown",
   "metadata": {},
   "source": [
    "### Prepare dataset"
   ]
  },
  {
   "cell_type": "code",
   "execution_count": 10,
   "metadata": {},
   "outputs": [],
   "source": [
    "# Sistemo i dati per regression tree\n",
    "## StoreID\n",
    "# df.drop('StoreID',axis=1) droppo dopo\n",
    "\n",
    "## StoreType\n",
    "df = pd.get_dummies(df, columns=['StoreType'], prefix='StoreType')\n",
    "\n",
    "## AssortmentType\n",
    "df = pd.get_dummies(df, columns=['AssortmentType'], prefix='AssortmentType')\n",
    "\n",
    "## Region\n",
    "# df = pd.get_dummies(df, columns=['Region'], prefix='Region')\n",
    "\n",
    "## Events\n",
    "# No-Events (NaN) are considered as sunny days, with lowest value (0) on the events scale\n",
    "df['Events'] = df['Events'].fillna(0)\n",
    "df=df.replace({'Rain':1, 'Thunderstorm':1, 'Fog':1, 'Snow': 2, 'Fog-Rain': 2, 'Rain-Thunderstorm': 2, 'Rain-Snow':2, 'Fog-Snow':2, 'Fog-Rain-Snow':3, 'Rain-Hail':3, 'Snow-Hail':3, 'Rain-Snow-Hail':3, 'Fog-Rain-Hail':3, 'Fog-Thunderstorm':3, 'Fog-Rain-Thunderstorm':4, 'Fog-Snow-Hail':4, 'Fog-Rain-Snow-Hail':4, 'Rain-Snow-Thunderstorm':4, 'Rain-Hail-Thunderstorm':4, 'Fog-Rain-Hail-Thunderstorm':4, 'Rain-Snow-Hail-Thunderstorm':4})\n"
   ]
  },
  {
   "cell_type": "code",
   "execution_count": 11,
   "metadata": {},
   "outputs": [],
   "source": [
    "rows_region = df['Region']\n",
    "\n",
    "\n",
    "selected_features=[\n",
    "    'NumberOfSales',\n",
    "    'NumberOfSales_lastmonth', \n",
    "    'HasPromotions', \n",
    "    'NumberOfSales_yesterday', \n",
    "    'NumberOfSales_lastweek',\n",
    "    'IsOpen_yesterday',\n",
    "    'DayOfWeek',\n",
    "    'NearestCompetitor',\n",
    "    'Week',\n",
    "    'StoreID',\n",
    "    'IsHoliday_tomorrow',\n",
    "    'Date'] # droppata dopo\n",
    "\n",
    "df = df[selected_features]\n",
    "# df_train = df[selected_features]\n",
    "# df_validation = df[selected_features]"
   ]
  },
  {
   "cell_type": "code",
   "execution_count": 12,
   "metadata": {},
   "outputs": [
    {
     "name": "stdout",
     "output_type": "stream",
     "text": [
      "Features with NaN:\n",
      "NumberOfSales_lastmonth\n",
      "NumberOfSales_yesterday\n",
      "NumberOfSales_lastweek\n",
      "IsOpen_yesterday\n",
      "IsHoliday_tomorrow\n"
     ]
    }
   ],
   "source": [
    "# Look for features with NaN values\n",
    "null_cols = find_nan_features(df)\n",
    "print('Features with NaN:')\n",
    "for col in null_cols:\n",
    "    print(col)\n",
    "    \n",
    "# drop all rows with NaN values\n",
    "df = remove_nan_rows(df)"
   ]
  },
  {
   "cell_type": "markdown",
   "metadata": {},
   "source": [
    "### Split"
   ]
  },
  {
   "cell_type": "code",
   "execution_count": 13,
   "metadata": {},
   "outputs": [],
   "source": [
    "# convert date to datetime\n",
    "df['Date'] = pd.to_datetime(df['Date'], format='%Y-%m-%d')"
   ]
  },
  {
   "cell_type": "code",
   "execution_count": 14,
   "metadata": {},
   "outputs": [],
   "source": [
    "# remove Region from training\n",
    "# df = df.drop('Region', axis=1)"
   ]
  },
  {
   "cell_type": "code",
   "execution_count": 15,
   "metadata": {},
   "outputs": [],
   "source": [
    "# split in train and validation\n",
    "train_fraction = 21/24\n",
    "df_train, df_validation = split(df, train_fraction)"
   ]
  },
  {
   "cell_type": "code",
   "execution_count": 16,
   "metadata": {},
   "outputs": [
    {
     "name": "stderr",
     "output_type": "stream",
     "text": [
      "/home/nicole/.virtualenvs/datamining6/lib/python3.6/site-packages/ipykernel_launcher.py:3: SettingWithCopyWarning: \n",
      "A value is trying to be set on a copy of a slice from a DataFrame\n",
      "\n",
      "See the caveats in the documentation: http://pandas.pydata.org/pandas-docs/stable/indexing.html#indexing-view-versus-copy\n",
      "  This is separate from the ipykernel package so we can avoid doing imports until\n",
      "/home/nicole/.virtualenvs/datamining6/lib/python3.6/site-packages/pandas/core/series.py:914: SettingWithCopyWarning: \n",
      "A value is trying to be set on a copy of a slice from a DataFrame\n",
      "\n",
      "See the caveats in the documentation: http://pandas.pydata.org/pandas-docs/stable/indexing.html#indexing-view-versus-copy\n",
      "  self.loc[key] = value\n",
      "/home/nicole/.virtualenvs/datamining6/lib/python3.6/site-packages/IPython/core/interactiveshell.py:2963: SettingWithCopyWarning: \n",
      "A value is trying to be set on a copy of a slice from a DataFrame\n",
      "\n",
      "See the caveats in the documentation: http://pandas.pydata.org/pandas-docs/stable/indexing.html#indexing-view-versus-copy\n",
      "  exec(code_obj, self.user_global_ns, self.user_ns)\n"
     ]
    }
   ],
   "source": [
    "# store Date and ID\n",
    "val_date = df_validation['Date']\n",
    "val_date['Date'] = pd.to_datetime(df_validation['Date'], format='%Y-%m-%d')\n",
    "val_id = df_validation['StoreID']\n",
    "# and drop them\n",
    "df_train = df_train.drop('Date', axis=1)\n",
    "df_validation = df_validation.drop('Date', axis=1)\n",
    "\n",
    "df_train = df_train.drop('StoreID', axis=1)\n",
    "df_validation = df_validation.drop('StoreID', axis=1)"
   ]
  },
  {
   "cell_type": "markdown",
   "metadata": {},
   "source": [
    "### Train model"
   ]
  },
  {
   "cell_type": "code",
   "execution_count": 17,
   "metadata": {},
   "outputs": [
    {
     "name": "stdout",
     "output_type": "stream",
     "text": [
      "X: (371913, 9)\n",
      "y: (371913,)\n"
     ]
    }
   ],
   "source": [
    "X_train, y_train = get_x_y(df_train)\n",
    "\n",
    "# checking shapes\n",
    "print('X: ' + str(X_train.shape))\n",
    "print('y: ' + str(y_train.shape))"
   ]
  },
  {
   "cell_type": "code",
   "execution_count": 18,
   "metadata": {},
   "outputs": [],
   "source": [
    "model = train_model(X_train, y_train)"
   ]
  },
  {
   "cell_type": "markdown",
   "metadata": {},
   "source": [
    "### Evaluate model"
   ]
  },
  {
   "cell_type": "code",
   "execution_count": 19,
   "metadata": {},
   "outputs": [
    {
     "name": "stdout",
     "output_type": "stream",
     "text": [
      "X: (51597, 9)\n",
      "y: (51597,)\n"
     ]
    }
   ],
   "source": [
    "X_val, y_val = get_x_y(df_validation)\n",
    "\n",
    "# checking shapes\n",
    "print('X: ' + str(X_val.shape))\n",
    "print('y: ' + str(y_val.shape))"
   ]
  },
  {
   "cell_type": "code",
   "execution_count": 20,
   "metadata": {},
   "outputs": [
    {
     "data": {
      "text/plain": [
       "Int64Index([11, 12, 12, 12, 12, 12, 12, 12, 12, 12,\n",
       "            ...\n",
       "             2,  2,  2,  2,  2,  2,  2,  2,  2,  2],\n",
       "           dtype='int64', name='Date', length=51597)"
      ]
     },
     "execution_count": 20,
     "metadata": {},
     "output_type": "execute_result"
    }
   ],
   "source": [
    "# val_date = pd.to_datetime(val_date, format='%Y-%m-%d')\n",
    "months = pd.DatetimeIndex(val_date['Date']).month\n",
    "months"
   ]
  },
  {
   "cell_type": "code",
   "execution_count": 22,
   "metadata": {},
   "outputs": [
    {
     "name": "stdout",
     "output_type": "stream",
     "text": [
      "0.03791872490397624\n"
     ]
    }
   ],
   "source": [
    "\n",
    "score = eval_model(X_val, y_val, model, val_id, months, rows_region)\n",
    "print(score)"
   ]
  },
  {
   "cell_type": "markdown",
   "metadata": {},
   "source": [
    "result = 0.03791872490397624"
   ]
  }
 ],
 "metadata": {
  "kernelspec": {
   "display_name": "datamining6",
   "language": "python",
   "name": "datamining6"
  },
  "language_info": {
   "codemirror_mode": {
    "name": "ipython",
    "version": 3
   },
   "file_extension": ".py",
   "mimetype": "text/x-python",
   "name": "python",
   "nbconvert_exporter": "python",
   "pygments_lexer": "ipython3",
   "version": "3.6.5"
  }
 },
 "nbformat": 4,
 "nbformat_minor": 2
}
