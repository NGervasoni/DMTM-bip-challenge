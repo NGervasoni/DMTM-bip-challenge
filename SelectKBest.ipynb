{
 "cells": [
  {
   "cell_type": "code",
   "execution_count": 1,
   "metadata": {},
   "outputs": [],
   "source": [
    "import pandas as pd\n",
    "from sklearn.feature_selection import SelectKBest\n",
    "from sklearn.feature_selection import f_regression"
   ]
  },
  {
   "cell_type": "code",
   "execution_count": 2,
   "metadata": {},
   "outputs": [],
   "source": [
    "def find_nan_features(df):\n",
    "    null_cols = []\n",
    "    for col in df.columns:\n",
    "        if df[col].isnull().values.any():\n",
    "            null_cols.append(col)\n",
    "    return null_cols"
   ]
  },
  {
   "cell_type": "code",
   "execution_count": 3,
   "metadata": {},
   "outputs": [],
   "source": [
    "def remove_nan_rows(df):\n",
    "    # getting indices (rows) of all NaN values\n",
    "    inds = pd.isnull(df).any(1).nonzero()[0]\n",
    "\n",
    "    # drop all the rows with NaN values\n",
    "    return df.drop(df.index[inds])"
   ]
  },
  {
   "cell_type": "code",
   "execution_count": 4,
   "metadata": {},
   "outputs": [],
   "source": [
    "df = pd.read_csv('preprocessed_train_with_avg.csv')"
   ]
  },
  {
   "cell_type": "code",
   "execution_count": null,
   "metadata": {},
   "outputs": [],
   "source": []
  },
  {
   "cell_type": "code",
   "execution_count": 5,
   "metadata": {},
   "outputs": [],
   "source": [
    "# Sistemo i dati per regression tree\n",
    "## StoreID\n",
    "# df.drop('StoreID',axis=1) droppo dopo\n",
    "\n",
    "## StoreType\n",
    "df = pd.get_dummies(df, columns=['StoreType'], prefix='StoreType')\n",
    "\n",
    "## AssortmentType\n",
    "df = pd.get_dummies(df, columns=['AssortmentType'], prefix='AssortmentType')\n",
    "\n",
    "## Region\n",
    "# df = pd.get_dummies(df, columns=['Region'], prefix='Region')\n",
    "\n",
    "## Events\n",
    "# No-Events (NaN) are considered as sunny days, with lowest value (0) on the events scale\n",
    "df['Events'] = df['Events'].fillna(0)\n",
    "df=df.replace({'Rain':1, 'Thunderstorm':1, 'Fog':1, 'Snow': 2, 'Fog-Rain': 2, 'Rain-Thunderstorm': 2, 'Rain-Snow':2, 'Fog-Snow':2, 'Fog-Rain-Snow':3, 'Rain-Hail':3, 'Snow-Hail':3, 'Rain-Snow-Hail':3, 'Fog-Rain-Hail':3, 'Fog-Thunderstorm':3, 'Fog-Rain-Thunderstorm':4, 'Fog-Snow-Hail':4, 'Fog-Rain-Snow-Hail':4, 'Rain-Snow-Thunderstorm':4, 'Rain-Hail-Thunderstorm':4, 'Fog-Rain-Hail-Thunderstorm':4, 'Rain-Snow-Hail-Thunderstorm':4})\n"
   ]
  },
  {
   "cell_type": "code",
   "execution_count": 6,
   "metadata": {},
   "outputs": [
    {
     "name": "stdout",
     "output_type": "stream",
     "text": [
      "Features with NaN:\n",
      "Max_VisibilityKm\n",
      "Mean_VisibilityKm\n",
      "Min_VisibilitykM\n",
      "IsOpen_yesterday\n",
      "IsOpen_tomorrow\n",
      "IsHoliday_yesterday\n",
      "IsHoliday_tomorrow\n",
      "NumberOfSales_yesterday\n",
      "NumberOfSales_lastweek\n",
      "NumberOfSales_lastmonth\n"
     ]
    }
   ],
   "source": [
    "# Look for features with NaN values\n",
    "null_cols = find_nan_features(df)\n",
    "print('Features with NaN:')\n",
    "for col in null_cols:\n",
    "    print(col)\n",
    "    \n",
    "# drop all rows with NaN values\n",
    "df = remove_nan_rows(df)"
   ]
  },
  {
   "cell_type": "code",
   "execution_count": 7,
   "metadata": {},
   "outputs": [],
   "source": [
    "features = set(df.columns.tolist())\n",
    "toremove = set(['Date', 'NumberOfSales', 'NumberOfSales_yesterday', \n",
    "            'NumberOfSales_lastweek', 'NumberOfSales_lastmonth'])\n",
    "features = list(features - toremove)\n",
    "X = df[features]\n",
    "y = df['NumberOfSales']"
   ]
  },
  {
   "cell_type": "code",
   "execution_count": 8,
   "metadata": {
    "scrolled": true
   },
   "outputs": [
    {
     "data": {
      "text/plain": [
       "SelectKBest(k=10, score_func=<function f_regression at 0x7fa5b77c1158>)"
      ]
     },
     "execution_count": 8,
     "metadata": {},
     "output_type": "execute_result"
    }
   ],
   "source": [
    "selector = SelectKBest(f_regression, k=10)\n",
    "selector.fit(X, y)"
   ]
  },
  {
   "cell_type": "code",
   "execution_count": 9,
   "metadata": {},
   "outputs": [
    {
     "data": {
      "text/plain": [
       "Index(['Max_Dew_PointC', 'Year', 'daily_sales', 'Mean_TemperatureC',\n",
       "       'Min_VisibilitykM', 'Min_Humidity', 'IsOpen_yesterday',\n",
       "       'IsHoliday_yesterday', 'Events', 'Mean_Sea_Level_PressurehPa',\n",
       "       'Mean_Dew_PointC', 'Week', 'StoreType_Hyper Market', 'Max_Humidity',\n",
       "       'Precipitationmm', 'Region', 'StoreType_Shopping Center',\n",
       "       'Region_PopulationK', 'Max_Sea_Level_PressurehPa', 'Mean_Humidity',\n",
       "       'HasPromotions', 'month_avg_sales', 'Mean_Wind_SpeedKm_h',\n",
       "       'NearestCompetitor', 'Max_Wind_SpeedKm_h', 'Max_Gust_SpeedKm_h',\n",
       "       'Quarter', 'CloudCover', 'IsHoliday_tomorrow', 'AssortmentType_General',\n",
       "       'Min_Dew_PointC', 'DayOfWeek', 'StoreID', 'Min_TemperatureC',\n",
       "       'Min_Sea_Level_PressurehPa', 'AssortmentType_With Fish Department',\n",
       "       'AssortmentType_With Non-Food Department', 'Mean_VisibilityKm',\n",
       "       'IsOpen_tomorrow', 'IsHoliday', 'Max_VisibilityKm', 'Month',\n",
       "       'StoreType_Super Market', 'yearly_sales', 'Max_TemperatureC',\n",
       "       'StoreType_Standard Market'],\n",
       "      dtype='object')"
      ]
     },
     "execution_count": 9,
     "metadata": {},
     "output_type": "execute_result"
    }
   ],
   "source": [
    "X.columns"
   ]
  },
  {
   "cell_type": "code",
   "execution_count": 10,
   "metadata": {},
   "outputs": [
    {
     "data": {
      "text/plain": [
       "['daily_sales',\n",
       " 'IsOpen_yesterday',\n",
       " 'StoreType_Shopping Center',\n",
       " 'HasPromotions',\n",
       " 'month_avg_sales',\n",
       " 'AssortmentType_General',\n",
       " 'DayOfWeek',\n",
       " 'AssortmentType_With Non-Food Department',\n",
       " 'IsOpen_tomorrow',\n",
       " 'yearly_sales']"
      ]
     },
     "execution_count": 10,
     "metadata": {},
     "output_type": "execute_result"
    }
   ],
   "source": [
    "z = X.columns[selector.get_support()].tolist()\n",
    "z"
   ]
  },
  {
   "cell_type": "code",
   "execution_count": 11,
   "metadata": {
    "scrolled": true
   },
   "outputs": [
    {
     "name": "stdout",
     "output_type": "stream",
     "text": [
      "Max_Dew_PointC                 -> 856.26975\n",
      "Year                           ->   1.04420\n",
      "daily_sales                    -> 598586.52235\n",
      "Mean_TemperatureC              -> 752.83250\n",
      "Min_VisibilitykM               ->  15.67358\n",
      "Min_Humidity                   -> 201.49472\n",
      "IsOpen_yesterday               -> 13247.83469\n",
      "IsHoliday_yesterday            -> 552.41552\n",
      "Events                         ->  57.96781\n",
      "Mean_Sea_Level_PressurehPa     ->   0.02505\n",
      "Mean_Dew_PointC                -> 784.58981\n",
      "Week                           -> 2726.98027\n",
      "StoreType_Hyper Market         -> 576.46638\n",
      "Max_Humidity                   ->  66.26615\n",
      "Precipitationmm                -> 192.11503\n",
      "Region                         -> 808.90225\n",
      "StoreType_Shopping Center      -> 8682.76105\n",
      "Region_PopulationK             -> 198.73784\n",
      "Max_Sea_Level_PressurehPa      ->   6.70062\n",
      "Mean_Humidity                  ->  99.21445\n",
      "HasPromotions                  -> 60176.20971\n",
      "month_avg_sales                -> 649978.82160\n",
      "Mean_Wind_SpeedKm_h            -> 1343.39112\n",
      "NearestCompetitor              -> 837.90477\n",
      "Max_Wind_SpeedKm_h             -> 661.69362\n",
      "Max_Gust_SpeedKm_h             -> 473.19195\n",
      "Quarter                        -> 2411.56972\n",
      "CloudCover                     ->  19.48003\n",
      "IsHoliday_tomorrow             ->  48.78405\n",
      "AssortmentType_General         -> 6287.43968\n",
      "Min_Dew_PointC                 -> 607.35002\n",
      "DayOfWeek                      -> 14445.36456\n",
      "StoreID                        ->  98.95532\n",
      "Min_TemperatureC               -> 430.35775\n",
      "Min_Sea_Level_PressurehPa      ->   9.73377\n",
      "AssortmentType_With Fish Department -> 2930.00208\n",
      "AssortmentType_With Non-Food Department -> 5094.89169\n",
      "Mean_VisibilityKm              ->  54.94197\n",
      "IsOpen_tomorrow                -> 10696.68447\n",
      "IsHoliday                      -> 104.01381\n",
      "Max_VisibilityKm               -> 312.58290\n",
      "Month                          -> 3220.74798\n",
      "StoreType_Super Market         -> 489.80052\n",
      "yearly_sales                   -> 504115.98551\n",
      "Max_TemperatureC               -> 921.18719\n",
      "StoreType_Standard Market      -> 258.03201\n"
     ]
    }
   ],
   "source": [
    "for i, score in enumerate(selector.scores_):\n",
    "    print('{:30s} -> {:9.5f}'.format(X.columns[i], score))"
   ]
  },
  {
   "cell_type": "code",
   "execution_count": 23,
   "metadata": {},
   "outputs": [],
   "source": [
    "# add day of the year\n",
    "df['Day'] = pd.to_datetime(df.Date).apply(lambda x: x.toordinal())\n",
    "features.append('Day')"
   ]
  },
  {
   "cell_type": "code",
   "execution_count": 24,
   "metadata": {},
   "outputs": [
    {
     "name": "stderr",
     "output_type": "stream",
     "text": [
      "/home/peter/.virtualenvs/dmtm/lib/python3.6/site-packages/sklearn/feature_selection/univariate_selection.py:298: RuntimeWarning: divide by zero encountered in true_divide\n",
      "  corr /= X_norms\n",
      "/home/peter/.virtualenvs/dmtm/lib/python3.6/site-packages/sklearn/feature_selection/univariate_selection.py:298: RuntimeWarning: invalid value encountered in true_divide\n",
      "  corr /= X_norms\n",
      "/home/peter/.virtualenvs/dmtm/lib/python3.6/site-packages/sklearn/feature_selection/univariate_selection.py:303: RuntimeWarning: invalid value encountered in true_divide\n",
      "  F = corr ** 2 / (1 - corr ** 2) * degrees_of_freedom\n",
      "/home/peter/.virtualenvs/dmtm/lib/python3.6/site-packages/scipy/stats/_distn_infrastructure.py:879: RuntimeWarning: invalid value encountered in greater\n",
      "  return (self.a < x) & (x < self.b)\n",
      "/home/peter/.virtualenvs/dmtm/lib/python3.6/site-packages/scipy/stats/_distn_infrastructure.py:879: RuntimeWarning: invalid value encountered in less\n",
      "  return (self.a < x) & (x < self.b)\n",
      "/home/peter/.virtualenvs/dmtm/lib/python3.6/site-packages/scipy/stats/_distn_infrastructure.py:1821: RuntimeWarning: invalid value encountered in less_equal\n",
      "  cond2 = cond0 & (x <= self.a)\n",
      "/home/peter/.virtualenvs/dmtm/lib/python3.6/site-packages/sklearn/feature_selection/univariate_selection.py:292: RuntimeWarning: invalid value encountered in sqrt\n",
      "  n_samples * X_means ** 2)\n"
     ]
    }
   ],
   "source": [
    "scores = [0] * len(features)\n",
    "for storeid in range(1000, 1735):\n",
    "    X = df[df.StoreID == storeid][features]\n",
    "    y = df[df.StoreID == storeid]['NumberOfSales']\n",
    "    selector = SelectKBest(f_regression)\n",
    "    selector.fit(X, y)\n",
    "    for i in range(len(features)):\n",
    "        scores[i] += selector.scores_.tolist()[i] / 1736"
   ]
  },
  {
   "cell_type": "code",
   "execution_count": 25,
   "metadata": {},
   "outputs": [
    {
     "name": "stdout",
     "output_type": "stream",
     "text": [
      "Max_Dew_PointC                 ->   2.45248\n",
      "Year                           ->   3.33695\n",
      "daily_sales                    ->       nan\n",
      "Mean_TemperatureC              ->   2.87663\n",
      "Min_VisibilitykM               ->   0.79059\n",
      "Min_Humidity                   ->   2.01672\n",
      "IsOpen_yesterday               ->       nan\n",
      "IsHoliday_yesterday            ->   1.93960\n",
      "Events                         ->   0.82962\n",
      "Mean_Sea_Level_PressurehPa     ->   0.36002\n",
      "Mean_Dew_PointC                ->   2.23999\n",
      "Week                           ->   5.38158\n",
      "StoreType_Hyper Market         ->       nan\n",
      "Max_Humidity                   ->   0.41724\n",
      "Precipitationmm                ->       nan\n",
      "Region                         ->       nan\n",
      "StoreType_Shopping Center      ->       nan\n",
      "Region_PopulationK             ->       nan\n",
      "Max_Sea_Level_PressurehPa      ->   0.36260\n",
      "Mean_Humidity                  ->   1.61885\n",
      "HasPromotions                  -> 167.08142\n",
      "month_avg_sales                ->  22.95986\n",
      "Mean_Wind_SpeedKm_h            ->   1.34465\n",
      "NearestCompetitor              ->       nan\n",
      "Max_Wind_SpeedKm_h             ->   0.91130\n",
      "Max_Gust_SpeedKm_h             ->   0.71999\n",
      "Quarter                        ->   4.73842\n",
      "CloudCover                     ->   0.95178\n",
      "IsHoliday_tomorrow             ->   0.56302\n",
      "AssortmentType_General         ->       nan\n",
      "Min_Dew_PointC                 ->   1.81919\n",
      "DayOfWeek                      ->  47.77840\n",
      "StoreID                        ->       nan\n",
      "Min_TemperatureC               ->   2.28918\n",
      "Min_Sea_Level_PressurehPa      ->   0.35128\n",
      "AssortmentType_With Fish Department ->       nan\n",
      "AssortmentType_With Non-Food Department ->       nan\n",
      "Mean_VisibilityKm              ->   0.81737\n",
      "IsOpen_tomorrow                ->       nan\n",
      "IsHoliday                      ->       nan\n",
      "Max_VisibilityKm               ->   0.55013\n",
      "Month                          ->   6.23845\n",
      "StoreType_Super Market         ->       nan\n",
      "yearly_sales                   ->       nan\n",
      "Max_TemperatureC               ->   3.01633\n",
      "StoreType_Standard Market      ->       nan\n",
      "Day                            ->   5.38310\n"
     ]
    }
   ],
   "source": [
    "for i, score in enumerate(scores):\n",
    "    print('{:30s} -> {:9.5f}'.format(X.columns[i], score))"
   ]
  }
 ],
 "metadata": {
  "kernelspec": {
   "display_name": "Python 3",
   "language": "python",
   "name": "python3"
  },
  "language_info": {
   "codemirror_mode": {
    "name": "ipython",
    "version": 3
   },
   "file_extension": ".py",
   "mimetype": "text/x-python",
   "name": "python",
   "nbconvert_exporter": "python",
   "pygments_lexer": "ipython3",
   "version": "3.6.5"
  }
 },
 "nbformat": 4,
 "nbformat_minor": 2
}
