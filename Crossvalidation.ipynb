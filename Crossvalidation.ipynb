{
 "cells": [
  {
   "cell_type": "code",
   "execution_count": 1,
   "metadata": {
    "scrolled": true
   },
   "outputs": [],
   "source": [
    "import pandas as pd\n",
    "import numpy as np\n",
    "import datetime as dt\n",
    "from IPython.display import clear_output\n",
    "from sklearn.ensemble import RandomForestRegressor\n",
    "from sklearn.model_selection import KFold, TimeSeriesSplit"
   ]
  },
  {
   "cell_type": "code",
   "execution_count": 2,
   "metadata": {},
   "outputs": [],
   "source": [
    "def find_nan_features(df):\n",
    "    null_cols = []\n",
    "    for col in df.columns:\n",
    "        if df[col].isnull().values.any():\n",
    "            null_cols.append(col)\n",
    "    return null_cols"
   ]
  },
  {
   "cell_type": "code",
   "execution_count": 3,
   "metadata": {},
   "outputs": [],
   "source": [
    "def remove_nan_rows(df):\n",
    "    # getting indices (rows) of all NaN values\n",
    "    inds = pd.isnull(df).any(1).nonzero()[0]\n",
    "\n",
    "    # drop all the rows with NaN values\n",
    "    return df.drop(df.index[inds])"
   ]
  },
  {
   "cell_type": "code",
   "execution_count": 4,
   "metadata": {},
   "outputs": [],
   "source": [
    "def split(df, train_fraction):\n",
    "    mindate = df.Date.min()\n",
    "    maxdate = df.Date.max()\n",
    "    splitdate = mindate + (maxdate - mindate) * train_fraction\n",
    "    train = df[df.Date < splitdate]\n",
    "    test = df[df.Date >= splitdate]\n",
    "    return train, test"
   ]
  },
  {
   "cell_type": "code",
   "execution_count": 5,
   "metadata": {},
   "outputs": [],
   "source": [
    "def get_x_y(df):\n",
    "    # split set in data and target\n",
    "    X = df.drop('NumberOfSales', axis=1)\n",
    "    y = df[\"NumberOfSales\"]\n",
    "    return X, y"
   ]
  },
  {
   "cell_type": "code",
   "execution_count": 6,
   "metadata": {},
   "outputs": [],
   "source": [
    "def train_model(X_train, y_train, n_estimators=250, max_depth=40, n_jobs=1):\n",
    "    # fit random forest with 250 trees\n",
    "    forest = RandomForestRegressor(n_estimators=n_estimators, max_depth=max_depth, random_state=0, n_jobs=n_jobs)\n",
    "    # TODO settare anche altri parametri\n",
    "#     forest = RandomForestRegressor(n_estimators=n_estimators, max_depth=max_depth, random_state=0, n_jobs=n_jobs, max_features='sqrt')\n",
    "\n",
    "    forest.fit(X_train, y_train)\n",
    "    return forest"
   ]
  },
  {
   "cell_type": "code",
   "execution_count": 7,
   "metadata": {},
   "outputs": [],
   "source": [
    "def bipmeter(X_val, y_val, y_pred, rows_region, rows_store):\n",
    "    X_val['NumberOfSales'] = y_val\n",
    "    X_val['NumberOfSales_predicted'] = y_pred\n",
    "    X_val['Region'] = rows_region\n",
    "    X_val['StoreID'] = rows_store\n",
    "    \n",
    "    df1 = X_val\n",
    "    # group by month & region \n",
    "    result = df1.groupby(['Month','Region','StoreID'], as_index=False).agg({\"NumberOfSales\": \"sum\",\"NumberOfSales_predicted\":\"sum\"})\n",
    "    result['Err'] = abs(result['NumberOfSales']-result['NumberOfSales_predicted'])\n",
    "    #result = result.groupby(['StoreID','Region'], as_index=False).agg({'Err':'sum'})\n",
    "    result = result.groupby('Region', as_index=False).agg({'Err':'sum'})\n",
    "    \n",
    "    #den = df1.groupby(['Month','Region','StoreID'], as_index=False).agg({\"NumberOfSales\": \"sum\"})\n",
    "    #den = den.groupby(['StoreID','Region'], as_index=False).agg({'NumberOfSales':'sum'})\n",
    "    den = df1.groupby('Region', as_index=False).agg({'NumberOfSales':'sum'})\n",
    "    \n",
    "    \n",
    "    E_r = (result['Err']/den['NumberOfSales'])\n",
    "    # % error\n",
    "    return E_r.sum()/len(E_r.tolist())"
   ]
  },
  {
   "cell_type": "code",
   "execution_count": 8,
   "metadata": {},
   "outputs": [],
   "source": [
    "def bip_metric(X_val, y_val, y_pred, rows_region, rows_store):\n",
    "\n",
    "    e_r = []\n",
    "    month_sum = []\n",
    "    # adjust shape\n",
    "    X_val['Region'] = rows_region\n",
    "    X_val = pd.get_dummies(X_val, columns=['Region'], prefix='Region')\n",
    "    X_val = X_val.reset_index(drop=True)\n",
    "    y_pred = y_pred.tolist()\n",
    "    y_val = y_val.tolist()\n",
    "\n",
    "    for r in rows_region.unique():\n",
    "\n",
    "        region = 'Region_' + str(r)\n",
    "        d = X_val.loc[X_val[region] == 1]\n",
    "\n",
    "        error = 0\n",
    "        y_somma = 0\n",
    "  \n",
    "#  cycle through stores\n",
    "        for i in range(1000,1736): \n",
    "               \n",
    "            for m in range(1,13):\n",
    "                sum_pred_month = 0\n",
    "                sum_actual_month = 0\n",
    "                indexes = d.index[(d['StoreID'] == i) & (d['Month'] == m)].tolist()\n",
    "                \n",
    "                for j in indexes:\n",
    "           \n",
    "                    sum_pred_month += y_pred[j]\n",
    "                    sum_actual_month += y_val[j]\n",
    "\n",
    "                error += abs(sum_actual_month - sum_pred_month)\n",
    "                y_somma = y_somma + sum_actual_month\n",
    "\n",
    "    e_r.append(error/y_somma)\n",
    "\n",
    "    return sum(e_r)/len(e_r)"
   ]
  },
  {
   "cell_type": "code",
   "execution_count": 9,
   "metadata": {},
   "outputs": [],
   "source": [
    "def eval_model(X_val, y_val, model, store_ids, val_date, rows_region, rows_store):\n",
    "    y_pred = model.predict(X_val)\n",
    "    new_x_val = X_val \n",
    "    new_x_val['Month'] = pd.DatetimeIndex(val_date['Date']).month\n",
    "    new_x_val['StoreID'] = store_ids\n",
    "    #score = bip_metric(X_val, y_val, y_pred, rows_region, rows_store)\n",
    "    \n",
    "#     score = bip_metric(X_val, y_val, y_pred, rows_region, rows_store)\n",
    "#     print(\"bipmeter:  {:6.4f}\".format(bipmeter(X_val,y_val,y_pred,rows_region,rows_store)))\n",
    "    # TODO non ho sbatti di capire quale sia corretto\n",
    "    # faccio andare quello che non si inceppa su region 2\n",
    "    score = bipmeter(X_val, y_val, y_pred, rows_region, rows_store)\n",
    "    \n",
    "    return score"
   ]
  },
  {
   "cell_type": "code",
   "execution_count": 10,
   "metadata": {},
   "outputs": [],
   "source": [
    "def crossvalidation(df,rows_store, rows_region, nfolds=8, n_estimators=50, max_depth=40,n_jobs=1, verbose=False):\n",
    "    '''Crossvalidation on the dataset `df` with `nfolds` folds.\n",
    "    Split the dataset in N training-validation folds,\n",
    "    trains and evaluates results for each of them,\n",
    "    returns the mean of the error and metrics'''\n",
    "    \n",
    "    # convert date to datetime\n",
    "    if df['Date'].dtype == np.dtype('O'):\n",
    "        df['Date'] = pd.to_datetime(df['Date'], format='%Y-%m-%d')\n",
    "        \n",
    "    # add temporary columns to compute splits\n",
    "    df['Year_CV'] = df['Date'].dt.year\n",
    "    df['Month_CV'] = df['Date'].dt.month\n",
    "    \n",
    "    # get all year-month pairs\n",
    "    l = sorted(list(set(df[['Year_CV', 'Month_CV']].itertuples(index=False))))\n",
    "    \n",
    "    # drop temporary columns\n",
    "    df = df.drop(['Year_CV', 'Month_CV'], axis=1)\n",
    "    \n",
    "    # split dataset in folds\n",
    "    kf = KFold(nfolds)\n",
    "    indexes = []\n",
    "    for train_months_idx, val_months_idx in kf.split(l):\n",
    "        train_months = [l[i] for i in train_months_idx]\n",
    "        val_months = [l[i] for i in val_months_idx]\n",
    "        train_indexes = df.Date.apply(lambda d: (d.year, d.month) in train_months)\n",
    "        val_indexes = df.Date.apply(lambda d: (d.year, d.month) in val_months)\n",
    "        indexes.append((train_indexes, val_indexes))\n",
    "\n",
    "    # iterate on the folds\n",
    "    total_score = 0\n",
    "    for train_indexes, val_indexes in indexes:\n",
    "        # split\n",
    "        df_train = df[train_indexes]\n",
    "        df_validation = df[val_indexes]\n",
    "        \n",
    "        # store Date and ID\n",
    "        val_date = pd.DataFrame(df_validation['Date'])\n",
    "        val_store_id = df_validation['StoreID']\n",
    "        \n",
    "        # and drop them\n",
    "        df_train = df_train.drop('Date', axis=1)\n",
    "        df_validation = df_validation.drop('Date', axis=1)\n",
    "\n",
    "        df_train = df_train.drop('StoreID', axis=1)\n",
    "        df_validation = df_validation.drop('StoreID', axis=1)\n",
    "        \n",
    "        # train model\n",
    "        X_train, y_train = get_x_y(df_train)\n",
    "        model = train_model(X_train, y_train, n_estimators=n_estimators, max_depth=max_depth, n_jobs=n_jobs)\n",
    "        \n",
    "        # evaluate model\n",
    "        X_val, y_val = get_x_y(df_validation)\n",
    "#         months = pd.DatetimeIndex(val_date['Date']).month\n",
    "        score = eval_model(X_val, y_val, model, val_store_id, val_date, rows_region, rows_store)\n",
    "        if verbose:\n",
    "            print('Partial score: {:6.4f}'.format(score))\n",
    "        total_score += score\n",
    "        \n",
    "    return total_score / nfolds"
   ]
  },
  {
   "cell_type": "code",
   "execution_count": 11,
   "metadata": {},
   "outputs": [],
   "source": [
    "def crossvalidation_TS(df,rows_store, rows_region, nfolds=8, n_estimators=50, max_depth=40, n_jobs=1, verbose=False):\n",
    "    '''Time-Series Crossvalidation on the dataset `df` with `nfolds` folds.\n",
    "    Split the dataset in N training-validation folds,\n",
    "    trains and evaluates results for each of them,\n",
    "    returns the mean of the error and metrics'''\n",
    "    \n",
    "    # convert date to datetime\n",
    "    if df['Date'].dtype == np.dtype('O'):\n",
    "        df['Date'] = pd.to_datetime(df['Date'], format='%Y-%m-%d')\n",
    "        \n",
    "    # add temporary columns to compute splits\n",
    "    df['Year_CV'] = df['Date'].dt.year\n",
    "    df['Month_CV'] = df['Date'].dt.month\n",
    "    \n",
    "    # get all year-month pairs\n",
    "    l = sorted(list(set(df[['Year_CV', 'Month_CV']].itertuples(index=False))))\n",
    "    \n",
    "    # drop temporary columns\n",
    "    df = df.drop(['Year_CV', 'Month_CV'], axis=1)\n",
    "    \n",
    "    # split dataset in folds\n",
    "    kf = TimeSeriesSplit(nfolds)\n",
    "    indexes = []\n",
    "    for train_months_idx, val_months_idx in kf.split(l):\n",
    "        train_months = [l[i] for i in train_months_idx]\n",
    "        val_months = [l[i] for i in val_months_idx]\n",
    "        train_indexes = df.Date.apply(lambda d: (d.year, d.month) in train_months)\n",
    "        val_indexes = df.Date.apply(lambda d: (d.year, d.month) in val_months)\n",
    "        indexes.append((train_indexes, val_indexes))\n",
    "\n",
    "    # iterate on the folds\n",
    "    total_score = 0\n",
    "    for train_indexes, val_indexes in indexes:\n",
    "        # split\n",
    "        df_train = df[train_indexes]\n",
    "        df_validation = df[val_indexes]\n",
    "        \n",
    "        # store Date and ID\n",
    "        val_date = pd.DataFrame(df_validation['Date'])\n",
    "        val_store_id = df_validation['StoreID']\n",
    "        \n",
    "        # and drop them\n",
    "        df_train = df_train.drop('Date', axis=1)\n",
    "        df_validation = df_validation.drop('Date', axis=1)\n",
    "\n",
    "        df_train = df_train.drop('StoreID', axis=1)\n",
    "        df_validation = df_validation.drop('StoreID', axis=1)\n",
    "        \n",
    "        # train model\n",
    "        X_train, y_train = get_x_y(df_train)\n",
    "        model = train_model(X_train, y_train, n_estimators=n_estimators, max_depth=max_depth, n_jobs=n_jobs)\n",
    "        \n",
    "        # evaluate model\n",
    "        X_val, y_val = get_x_y(df_validation)\n",
    "        months = pd.DatetimeIndex(val_date['Date']).month\n",
    "        score = eval_model(X_val, y_val, model, val_store_id, val_date, rows_region,rows_store)\n",
    "        if verbose:\n",
    "            print('Partial score: {:6.4f}'.format(score))\n",
    "        total_score += score\n",
    "        \n",
    "    return total_score / nfolds"
   ]
  },
  {
   "cell_type": "markdown",
   "metadata": {},
   "source": [
    "### Load dataset"
   ]
  },
  {
   "cell_type": "code",
   "execution_count": 12,
   "metadata": {
    "scrolled": true
   },
   "outputs": [],
   "source": [
    "# load preprocessed csv to dataframe\n",
    "df = pd.read_csv('preprocessed_train_with_avg.csv')"
   ]
  },
  {
   "cell_type": "markdown",
   "metadata": {},
   "source": [
    "### Prepare dataset"
   ]
  },
  {
   "cell_type": "code",
   "execution_count": 13,
   "metadata": {},
   "outputs": [],
   "source": [
    "# Save region for each index\n",
    "rows_region = df['Region']\n",
    "rows_store = df['StoreID']\n",
    "\n",
    "# Choose features\n",
    "selected_features=[\n",
    "    'NumberOfSales',\n",
    "    'HasPromotions', \n",
    "    'daily_sales',\n",
    "    'month_avg_sales',\n",
    "    'yearly_sales',\n",
    "    'IsOpen_yesterday',\n",
    "    'DayOfWeek',\n",
    "    'NearestCompetitor',\n",
    "    'Week',\n",
    "    'StoreID',\n",
    "    'IsHoliday_tomorrow',\n",
    "    'Date'] # droppata dopo\n",
    "\n",
    "df = df[selected_features]\n",
    "# df_train = df[selected_features]\n",
    "# df_validation = df[selected_features]"
   ]
  },
  {
   "cell_type": "code",
   "execution_count": 14,
   "metadata": {},
   "outputs": [
    {
     "name": "stdout",
     "output_type": "stream",
     "text": [
      "Features with NaN:\n",
      "IsOpen_yesterday\n",
      "IsHoliday_tomorrow\n"
     ]
    }
   ],
   "source": [
    "# Look for features with NaN values\n",
    "null_cols = find_nan_features(df)\n",
    "print('Features with NaN:')\n",
    "for col in null_cols:\n",
    "    print(col)\n",
    "    \n",
    "# drop all rows with NaN values\n",
    "df = remove_nan_rows(df)"
   ]
  },
  {
   "cell_type": "markdown",
   "metadata": {},
   "source": [
    "### Cross-validation"
   ]
  },
  {
   "cell_type": "code",
   "execution_count": 15,
   "metadata": {
    "scrolled": true
   },
   "outputs": [
    {
     "name": "stdout",
     "output_type": "stream",
     "text": [
      "Partial score: 0.0488\n",
      "Partial score: 0.0437\n",
      "Partial score: 0.0497\n",
      "Partial score: 0.0386\n",
      "Partial score: 0.0367\n",
      "Partial score: 0.0363\n",
      "Partial score: 0.0575\n",
      "Partial score: 0.0448\n",
      "Partial score: 0.0524\n",
      "Partial score: 0.0370\n",
      "Partial score: 0.0410\n",
      "Partial score: 0.0473\n",
      "Total score: 0.0445\n"
     ]
    }
   ],
   "source": [
    "score = crossvalidation(df,rows_store, rows_region, nfolds=12, \n",
    "                        n_estimators=250, max_depth=10,\n",
    "                        n_jobs=3, verbose=True)\n",
    "\n",
    "print(\"Total score: {:6.4f}\".format(score))"
   ]
  },
  {
   "cell_type": "code",
   "execution_count": 16,
   "metadata": {},
   "outputs": [
    {
     "name": "stdout",
     "output_type": "stream",
     "text": [
      "Partial score: 0.0429\n",
      "Partial score: 0.0793\n",
      "Partial score: 0.0342\n",
      "Partial score: 0.0611\n",
      "Partial score: 0.0455\n",
      "Partial score: 0.0478\n",
      "Partial score: 0.0396\n",
      "Partial score: 0.0366\n",
      "Partial score: 0.0481\n",
      "Partial score: 0.0347\n",
      "Partial score: 0.0499\n",
      "Partial score: 0.0453\n",
      "Total score: 0.0471\n"
     ]
    }
   ],
   "source": [
    "score_ts = crossvalidation_TS(df,rows_store, rows_region, nfolds=12, \n",
    "                              n_estimators=250, max_depth=10,\n",
    "                              n_jobs=3, verbose=True)\n",
    "\n",
    "print(\"Total score: {:6.4f}\".format(score_ts))"
   ]
  },
  {
   "cell_type": "markdown",
   "metadata": {},
   "source": [
    "#### Cross-validation: Random Forest, 50 trees, 8 folds\n",
    "    Partial score: 0.0215\n",
    "    Partial score: 0.0203\n",
    "    Partial score: 0.0356\n",
    "    Partial score: 0.0227\n",
    "    Partial score: 0.0263\n",
    "    Partial score: 0.0204\n",
    "    Partial score: 0.0243\n",
    "    Partial score: 0.0316\n",
    "    Total score: 0.0253\n",
    "    \n",
    "    \n",
    "#### Bipmeter\n",
    "    Partial score: 0.0580\n",
    "    Partial score: 0.0607\n",
    "    Partial score: 0.0448\n",
    "    Partial score: 0.0530\n",
    "    Partial score: 0.0593\n",
    "    Partial score: 0.0556\n",
    "    Partial score: 0.0551\n",
    "    Partial score: 0.0571\n",
    "    Total score: 0.0554\n"
   ]
  },
  {
   "cell_type": "code",
   "execution_count": 17,
   "metadata": {},
   "outputs": [],
   "source": [
    "## questo notebook:\n",
    "# senza StoreID\n",
    "# con NumberOfSales reali\n",
    "# con tutti i dati\n",
    "\n",
    "## da fare:\n",
    "# per store\n",
    "# con i dati dello store"
   ]
  },
  {
   "cell_type": "code",
   "execution_count": 18,
   "metadata": {},
   "outputs": [],
   "source": [
    "# TODO add MAE, MSE, errore per regione"
   ]
  }
 ],
 "metadata": {
  "kernelspec": {
   "display_name": "Python 3",
   "language": "python",
   "name": "python3"
  },
  "language_info": {
   "codemirror_mode": {
    "name": "ipython",
    "version": 3
   },
   "file_extension": ".py",
   "mimetype": "text/x-python",
   "name": "python",
   "nbconvert_exporter": "python",
   "pygments_lexer": "ipython3",
   "version": "3.6.5"
  }
 },
 "nbformat": 4,
 "nbformat_minor": 2
}
