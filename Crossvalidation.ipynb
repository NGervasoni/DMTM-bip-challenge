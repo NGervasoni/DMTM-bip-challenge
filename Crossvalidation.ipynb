{
 "cells": [
  {
   "cell_type": "code",
   "execution_count": 1,
   "metadata": {
    "scrolled": true
   },
   "outputs": [],
   "source": [
    "import pandas as pd\n",
    "import numpy as np\n",
    "import datetime as dt\n",
    "from IPython.display import clear_output\n",
    "from sklearn.ensemble import RandomForestRegressor\n",
    "from sklearn.model_selection import KFold, TimeSeriesSplit"
   ]
  },
  {
   "cell_type": "code",
   "execution_count": 2,
   "metadata": {},
   "outputs": [],
   "source": [
    "def find_nan_features(df):\n",
    "    null_cols = []\n",
    "    for col in df.columns:\n",
    "        if df[col].isnull().values.any():\n",
    "            null_cols.append(col)\n",
    "    return null_cols"
   ]
  },
  {
   "cell_type": "code",
   "execution_count": 3,
   "metadata": {},
   "outputs": [],
   "source": [
    "def remove_nan_rows(df):\n",
    "    # getting indices (rows) of all NaN values\n",
    "    inds = pd.isnull(df).any(1).nonzero()[0]\n",
    "\n",
    "    # drop all the rows with NaN values\n",
    "    return df.drop(df.index[inds])"
   ]
  },
  {
   "cell_type": "code",
   "execution_count": 4,
   "metadata": {},
   "outputs": [],
   "source": [
    "def split(df, train_fraction):\n",
    "    mindate = df.Date.min()\n",
    "    maxdate = df.Date.max()\n",
    "    splitdate = mindate + (maxdate - mindate) * train_fraction\n",
    "    train = df[df.Date < splitdate]\n",
    "    test = df[df.Date >= splitdate]\n",
    "    return train, test"
   ]
  },
  {
   "cell_type": "code",
   "execution_count": 5,
   "metadata": {},
   "outputs": [],
   "source": [
    "def get_x_y(df):\n",
    "    # split set in data and target\n",
    "    X = df.drop('NumberOfSales', axis=1)\n",
    "    y = df[\"NumberOfSales\"]\n",
    "    return X, y"
   ]
  },
  {
   "cell_type": "code",
   "execution_count": 6,
   "metadata": {},
   "outputs": [],
   "source": [
    "def train_model(X_train, y_train, n_estimators=250, n_jobs=1):\n",
    "    # fit random forest with 250 trees\n",
    "    forest = RandomForestRegressor(n_estimators=n_estimators, random_state=0, n_jobs=n_jobs)\n",
    "    forest.fit(X_train, y_train)\n",
    "    return forest"
   ]
  },
  {
   "cell_type": "code",
   "execution_count": 7,
   "metadata": {},
   "outputs": [],
   "source": [
    "def bipmeter(X_val, y_val, y_pred, rows_region, rows_store):\n",
    "    X_val['NumberOfSales'] = y_val\n",
    "    X_val['NumberOfSales_predicted'] = y_pred\n",
    "    X_val['Region'] = rows_region\n",
    "    X_val['StoreID'] = rows_store\n",
    "    \n",
    "    df1 = X_val\n",
    "    # group by month & region \n",
    "    result = df1.groupby(['Month','Region','StoreID'], as_index=False).agg({\"NumberOfSales\": \"sum\",\"NumberOfSales_predicted\":\"sum\"})\n",
    "    result['Err'] = abs(result['NumberOfSales']-result['NumberOfSales_predicted'])\n",
    "    #result = result.groupby(['StoreID','Region'], as_index=False).agg({'Err':'sum'})\n",
    "    result = result.groupby('Region', as_index=False).agg({'Err':'sum'})\n",
    "    \n",
    "    #den = df1.groupby(['Month','Region','StoreID'], as_index=False).agg({\"NumberOfSales\": \"sum\"})\n",
    "    #den = den.groupby(['StoreID','Region'], as_index=False).agg({'NumberOfSales':'sum'})\n",
    "    den = df1.groupby('Region', as_index=False).agg({'NumberOfSales':'sum'})\n",
    "    \n",
    "    \n",
    "    E_r = (result['Err']/den['NumberOfSales'])\n",
    "    # % error\n",
    "    return E_r.sum()/len(E_r.tolist())"
   ]
  },
  {
   "cell_type": "code",
   "execution_count": 8,
   "metadata": {},
   "outputs": [],
   "source": [
    "def bip_metric(X_val, y_val, y_pred, rows_region, rows_store):\n",
    "\n",
    "    e_r = []\n",
    "    month_sum = []\n",
    "    # adjust shape\n",
    "    X_val['Region'] = rows_region\n",
    "    X_val = pd.get_dummies(X_val, columns=['Region'], prefix='Region')\n",
    "èò\n",
    "    y_pred = y_pred.tolist()\n",
    "    y_val = y_val.tolist()\n",
    "\n",
    "    for r in range(11):\n",
    "\n",
    "        region = 'Region_' + str(r)\n",
    "        d = X_val.loc[X_val[region] == 1]\n",
    "\n",
    "        error = 0\n",
    "        y_somma = 0\n",
    "  \n",
    "#  cycle through stores\n",
    "        for i in range(1000,1736): \n",
    "               \n",
    "            for m in range(1,13):\n",
    "                sum_pred_month = 0\n",
    "                sum_actual_month = 0\n",
    "                indexes = d.index[(d['StoreID'] == i) & (d['Month'] == m)].tolist()\n",
    "                \n",
    "                for j in indexes:\n",
    "           \n",
    "                    sum_pred_month += y_pred[j]\n",
    "                    sum_actual_month += y_val[j]\n",
    "\n",
    "                error += abs(sum_actual_month - sum_pred_month)\n",
    "                y_somma = y_somma + sum_actual_month\n",
    "\n",
    "    e_r.append(error/y_somma)\n",
    "\n",
    "    return sum(e_r)/len(e_r)"
   ]
  },
  {
   "cell_type": "code",
   "execution_count": 9,
   "metadata": {},
   "outputs": [],
   "source": [
    "def eval_model(X_val, y_val, model, store_ids, val_date, rows_region, rows_store):\n",
    "    y_pred = model.predict(X_val)\n",
    "    new_x_val = X_val \n",
    "    new_x_val['Month'] = pd.DatetimeIndex(val_date['Date']).month\n",
    "    new_x_val['StoreID'] = store_ids\n",
    "    #score = bip_metric(X_val, y_val, y_pred, rows_region, rows_store)\n",
    "    \n",
    "    score = bip_metric(X_val, y_val, y_pred, rows_region, rows_store)\n",
    "    print(\"bipmeter:  {:6.4f}\".format(bipmeter(X_val,y_val,y_pred,rows_region,rows_store)))\n",
    "    \n",
    "    return score"
   ]
  },
  {
   "cell_type": "code",
   "execution_count": 10,
   "metadata": {},
   "outputs": [],
   "source": [
    "def crossvalidation(df,rows_store, rows_region, nfolds=8, n_estimators=50, n_jobs=1, verbose=False):\n",
    "    '''Crossvalidation on the dataset `df` with `nfolds` folds.\n",
    "    Split the dataset in N training-validation folds,\n",
    "    trains and evaluates results for each of them,\n",
    "    returns the mean of the error and metrics'''\n",
    "    \n",
    "    # convert date to datetime\n",
    "    if df['Date'].dtype == np.dtype('O'):\n",
    "        df['Date'] = pd.to_datetime(df['Date'], format='%Y-%m-%d')\n",
    "        \n",
    "    # add temporary columns to compute splits\n",
    "    df['Year_CV'] = df['Date'].dt.year\n",
    "    df['Month_CV'] = df['Date'].dt.month\n",
    "    \n",
    "    # get all year-month pairs\n",
    "    l = sorted(list(set(df[['Year_CV', 'Month_CV']].itertuples(index=False))))\n",
    "    \n",
    "    # drop temporary columns\n",
    "    df = df.drop(['Year_CV', 'Month_CV'], axis=1)\n",
    "    \n",
    "    # split dataset in folds\n",
    "    kf = KFold(nfolds)\n",
    "    indexes = []\n",
    "    for train_months_idx, val_months_idx in kf.split(l):\n",
    "        train_months = [l[i] for i in train_months_idx]\n",
    "        val_months = [l[i] for i in val_months_idx]\n",
    "        train_indexes = df.Date.apply(lambda d: (d.year, d.month) in train_months)\n",
    "        val_indexes = df.Date.apply(lambda d: (d.year, d.month) in val_months)\n",
    "        indexes.append((train_indexes, val_indexes))\n",
    "\n",
    "    # iterate on the folds\n",
    "    total_score = 0\n",
    "    for train_indexes, val_indexes in indexes:\n",
    "        # split\n",
    "        df_train = df[train_indexes]\n",
    "        df_validation = df[val_indexes]\n",
    "        \n",
    "        # store Date and ID\n",
    "        val_date = pd.DataFrame(df_validation['Date'])\n",
    "        val_store_id = df_validation['StoreID']\n",
    "        \n",
    "        # and drop them\n",
    "        df_train = df_train.drop('Date', axis=1)\n",
    "        df_validation = df_validation.drop('Date', axis=1)\n",
    "\n",
    "        df_train = df_train.drop('StoreID', axis=1)\n",
    "        df_validation = df_validation.drop('StoreID', axis=1)\n",
    "        \n",
    "        # train model\n",
    "        X_train, y_train = get_x_y(df_train)\n",
    "        model = train_model(X_train, y_train, n_estimators=n_estimators, n_jobs=n_jobs)\n",
    "        \n",
    "        # evaluate model\n",
    "        X_val, y_val = get_x_y(df_validation)\n",
    "#         months = pd.DatetimeIndex(val_date['Date']).month\n",
    "        score = eval_model(X_val, y_val, model, val_store_id, val_date, rows_region, rows_store)\n",
    "        if verbose:\n",
    "            print('Partial score: {:6.4f}'.format(score))\n",
    "        total_score += score\n",
    "        \n",
    "    return total_score / nfolds"
   ]
  },
  {
   "cell_type": "code",
   "execution_count": 11,
   "metadata": {},
   "outputs": [],
   "source": [
    "def crossvalidation_TS(df,rows_store, rows_region, nfolds=8, n_estimators=50, n_jobs=1, verbose=False):\n",
    "    '''Time-Series Crossvalidation on the dataset `df` with `nfolds` folds.\n",
    "    Split the dataset in N training-validation folds,\n",
    "    trains and evaluates results for each of them,\n",
    "    returns the mean of the error and metrics'''\n",
    "    \n",
    "    # convert date to datetime\n",
    "    if df['Date'].dtype == np.dtype('O'):\n",
    "        df['Date'] = pd.to_datetime(df['Date'], format='%Y-%m-%d')\n",
    "        \n",
    "    # add temporary columns to compute splits\n",
    "    df['Year_CV'] = df['Date'].dt.year\n",
    "    df['Month_CV'] = df['Date'].dt.month\n",
    "    \n",
    "    # get all year-month pairs\n",
    "    l = sorted(list(set(df[['Year_CV', 'Month_CV']].itertuples(index=False))))\n",
    "    \n",
    "    # drop temporary columns\n",
    "    df = df.drop(['Year_CV', 'Month_CV'], axis=1)\n",
    "    \n",
    "    # split dataset in folds\n",
    "    kf = TimeSeriesSplit(nfolds)\n",
    "    indexes = []\n",
    "    for train_months_idx, val_months_idx in kf.split(l):\n",
    "        train_months = [l[i] for i in train_months_idx]\n",
    "        val_months = [l[i] for i in val_months_idx]\n",
    "        train_indexes = df.Date.apply(lambda d: (d.year, d.month) in train_months)\n",
    "        val_indexes = df.Date.apply(lambda d: (d.year, d.month) in val_months)\n",
    "        indexes.append((train_indexes, val_indexes))\n",
    "\n",
    "    # iterate on the folds\n",
    "    total_score = 0\n",
    "    for train_indexes, val_indexes in indexes:\n",
    "        # split\n",
    "        df_train = df[train_indexes]\n",
    "        df_validation = df[val_indexes]\n",
    "        \n",
    "        # store Date and ID\n",
    "        val_date = pd.DataFrame(df_validation['Date'])\n",
    "        val_store_id = df_validation['StoreID']\n",
    "        \n",
    "        # and drop them\n",
    "        df_train = df_train.drop('Date', axis=1)\n",
    "        df_validation = df_validation.drop('Date', axis=1)\n",
    "\n",
    "        df_train = df_train.drop('StoreID', axis=1)\n",
    "        df_validation = df_validation.drop('StoreID', axis=1)\n",
    "        \n",
    "        # train model\n",
    "        X_train, y_train = get_x_y(df_train)\n",
    "        model = train_model(X_train, y_train, n_estimators=n_estimators, n_jobs=n_jobs)\n",
    "        \n",
    "        # evaluate model\n",
    "        X_val, y_val = get_x_y(df_validation)\n",
    "        months = pd.DatetimeIndex(val_date['Date']).month\n",
    "        score = eval_model(X_val, y_val, model, val_store_id, val_date, rows_region,rows_store)\n",
    "        if verbose:\n",
    "            print('Partial score: {:6.4f}'.format(score))\n",
    "        total_score += score\n",
    "        \n",
    "    return total_score / nfolds"
   ]
  },
  {
   "cell_type": "markdown",
   "metadata": {},
   "source": [
    "### Load dataset"
   ]
  },
  {
   "cell_type": "code",
   "execution_count": 12,
   "metadata": {
    "scrolled": true
   },
   "outputs": [],
   "source": [
    "# load preprocessed csv to dataframe\n",
    "df = pd.read_csv('preprocessed_train_with_avg.csv')"
   ]
  },
  {
   "cell_type": "markdown",
   "metadata": {},
   "source": [
    "### Prepare dataset"
   ]
  },
  {
   "cell_type": "code",
   "execution_count": 13,
   "metadata": {},
   "outputs": [],
   "source": [
    "# Save region for each index\n",
    "rows_region = df['Region']\n",
    "rows_store = df['StoreID']\n",
    "\n",
    "# Choose features\n",
    "selected_features=[\n",
    "    'NumberOfSales',\n",
    "    'HasPromotions', \n",
    "    'daily_sales',\n",
    "    'month_avg_sales',\n",
    "    'yearly_sales',\n",
    "    'IsOpen_yesterday',\n",
    "    'DayOfWeek',\n",
    "    'NearestCompetitor',\n",
    "    'Week',\n",
    "    'StoreID',\n",
    "    'IsHoliday_tomorrow',\n",
    "    'Date'] # droppata dopo\n",
    "\n",
    "df = df[selected_features]\n",
    "# df_train = df[selected_features]\n",
    "# df_validation = df[selected_features]"
   ]
  },
  {
   "cell_type": "code",
   "execution_count": 14,
   "metadata": {},
   "outputs": [
    {
     "name": "stdout",
     "output_type": "stream",
     "text": [
      "Features with NaN:\n",
      "month_avg_sales\n",
      "IsOpen_yesterday\n",
      "IsHoliday_tomorrow\n"
     ]
    }
   ],
   "source": [
    "# Look for features with NaN values\n",
    "null_cols = find_nan_features(df)\n",
    "print('Features with NaN:')\n",
    "for col in null_cols:\n",
    "    print(col)\n",
    "    \n",
    "# drop all rows with NaN values\n",
    "df = remove_nan_rows(df)"
   ]
  },
  {
   "cell_type": "markdown",
   "metadata": {},
   "source": [
    "### Cross-validation"
   ]
  },
  {
   "cell_type": "code",
   "execution_count": 15,
   "metadata": {
    "scrolled": true
   },
   "outputs": [
    {
     "name": "stdout",
     "output_type": "stream",
     "text": [
      "bipmeter:  0.0577\n",
      "Partial score: 0.0528\n",
      "bipmeter:  0.0607\n",
      "Partial score: 0.0600\n",
      "bipmeter:  0.0449\n",
      "Partial score: 0.0335\n",
      "bipmeter:  0.0530\n",
      "Partial score: 0.0425\n",
      "bipmeter:  0.0592\n",
      "Partial score: 0.0484\n"
     ]
    },
    {
     "ename": "KeyError",
     "evalue": "'Region_2'",
     "output_type": "error",
     "traceback": [
      "\u001b[1;31m---------------------------------------------------------------------------\u001b[0m",
      "\u001b[1;31mKeyError\u001b[0m                                  Traceback (most recent call last)",
      "\u001b[1;32m~\\Anaconda3\\lib\\site-packages\\pandas\\core\\indexes\\base.py\u001b[0m in \u001b[0;36mget_loc\u001b[1;34m(self, key, method, tolerance)\u001b[0m\n\u001b[0;32m   2524\u001b[0m             \u001b[1;32mtry\u001b[0m\u001b[1;33m:\u001b[0m\u001b[1;33m\u001b[0m\u001b[0m\n\u001b[1;32m-> 2525\u001b[1;33m                 \u001b[1;32mreturn\u001b[0m \u001b[0mself\u001b[0m\u001b[1;33m.\u001b[0m\u001b[0m_engine\u001b[0m\u001b[1;33m.\u001b[0m\u001b[0mget_loc\u001b[0m\u001b[1;33m(\u001b[0m\u001b[0mkey\u001b[0m\u001b[1;33m)\u001b[0m\u001b[1;33m\u001b[0m\u001b[0m\n\u001b[0m\u001b[0;32m   2526\u001b[0m             \u001b[1;32mexcept\u001b[0m \u001b[0mKeyError\u001b[0m\u001b[1;33m:\u001b[0m\u001b[1;33m\u001b[0m\u001b[0m\n",
      "\u001b[1;32mpandas/_libs/index.pyx\u001b[0m in \u001b[0;36mpandas._libs.index.IndexEngine.get_loc\u001b[1;34m()\u001b[0m\n",
      "\u001b[1;32mpandas/_libs/index.pyx\u001b[0m in \u001b[0;36mpandas._libs.index.IndexEngine.get_loc\u001b[1;34m()\u001b[0m\n",
      "\u001b[1;32mpandas/_libs/hashtable_class_helper.pxi\u001b[0m in \u001b[0;36mpandas._libs.hashtable.PyObjectHashTable.get_item\u001b[1;34m()\u001b[0m\n",
      "\u001b[1;32mpandas/_libs/hashtable_class_helper.pxi\u001b[0m in \u001b[0;36mpandas._libs.hashtable.PyObjectHashTable.get_item\u001b[1;34m()\u001b[0m\n",
      "\u001b[1;31mKeyError\u001b[0m: 'Region_2'",
      "\nDuring handling of the above exception, another exception occurred:\n",
      "\u001b[1;31mKeyError\u001b[0m                                  Traceback (most recent call last)",
      "\u001b[1;32m<ipython-input-15-0a028a5a6b5d>\u001b[0m in \u001b[0;36m<module>\u001b[1;34m()\u001b[0m\n\u001b[0;32m      1\u001b[0m score = crossvalidation(df,rows_store, rows_region, nfolds=8, \n\u001b[1;32m----> 2\u001b[1;33m                         n_estimators=50, n_jobs=3, verbose=True)\n\u001b[0m\u001b[0;32m      3\u001b[0m \u001b[1;33m\u001b[0m\u001b[0m\n\u001b[0;32m      4\u001b[0m \u001b[0mprint\u001b[0m\u001b[1;33m(\u001b[0m\u001b[1;34m\"Total score: {:6.4f}\"\u001b[0m\u001b[1;33m.\u001b[0m\u001b[0mformat\u001b[0m\u001b[1;33m(\u001b[0m\u001b[0mscore\u001b[0m\u001b[1;33m)\u001b[0m\u001b[1;33m)\u001b[0m\u001b[1;33m\u001b[0m\u001b[0m\n",
      "\u001b[1;32m<ipython-input-10-60becd31552a>\u001b[0m in \u001b[0;36mcrossvalidation\u001b[1;34m(df, rows_store, rows_region, nfolds, n_estimators, n_jobs, verbose)\u001b[0m\n\u001b[0;32m     54\u001b[0m         \u001b[0mX_val\u001b[0m\u001b[1;33m,\u001b[0m \u001b[0my_val\u001b[0m \u001b[1;33m=\u001b[0m \u001b[0mget_x_y\u001b[0m\u001b[1;33m(\u001b[0m\u001b[0mdf_validation\u001b[0m\u001b[1;33m)\u001b[0m\u001b[1;33m\u001b[0m\u001b[0m\n\u001b[0;32m     55\u001b[0m \u001b[1;31m#         months = pd.DatetimeIndex(val_date['Date']).month\u001b[0m\u001b[1;33m\u001b[0m\u001b[1;33m\u001b[0m\u001b[0m\n\u001b[1;32m---> 56\u001b[1;33m         \u001b[0mscore\u001b[0m \u001b[1;33m=\u001b[0m \u001b[0meval_model\u001b[0m\u001b[1;33m(\u001b[0m\u001b[0mX_val\u001b[0m\u001b[1;33m,\u001b[0m \u001b[0my_val\u001b[0m\u001b[1;33m,\u001b[0m \u001b[0mmodel\u001b[0m\u001b[1;33m,\u001b[0m \u001b[0mval_store_id\u001b[0m\u001b[1;33m,\u001b[0m \u001b[0mval_date\u001b[0m\u001b[1;33m,\u001b[0m \u001b[0mrows_region\u001b[0m\u001b[1;33m,\u001b[0m \u001b[0mrows_store\u001b[0m\u001b[1;33m)\u001b[0m\u001b[1;33m\u001b[0m\u001b[0m\n\u001b[0m\u001b[0;32m     57\u001b[0m         \u001b[1;32mif\u001b[0m \u001b[0mverbose\u001b[0m\u001b[1;33m:\u001b[0m\u001b[1;33m\u001b[0m\u001b[0m\n\u001b[0;32m     58\u001b[0m             \u001b[0mprint\u001b[0m\u001b[1;33m(\u001b[0m\u001b[1;34m'Partial score: {:6.4f}'\u001b[0m\u001b[1;33m.\u001b[0m\u001b[0mformat\u001b[0m\u001b[1;33m(\u001b[0m\u001b[0mscore\u001b[0m\u001b[1;33m)\u001b[0m\u001b[1;33m)\u001b[0m\u001b[1;33m\u001b[0m\u001b[0m\n",
      "\u001b[1;32m<ipython-input-9-722acb1af215>\u001b[0m in \u001b[0;36meval_model\u001b[1;34m(X_val, y_val, model, store_ids, val_date, rows_region, rows_store)\u001b[0m\n\u001b[0;32m      6\u001b[0m     \u001b[1;31m#score = bip_metric(X_val, y_val, y_pred, rows_region, rows_store)\u001b[0m\u001b[1;33m\u001b[0m\u001b[1;33m\u001b[0m\u001b[0m\n\u001b[0;32m      7\u001b[0m \u001b[1;33m\u001b[0m\u001b[0m\n\u001b[1;32m----> 8\u001b[1;33m     \u001b[0mscore\u001b[0m \u001b[1;33m=\u001b[0m \u001b[0mbip_metric\u001b[0m\u001b[1;33m(\u001b[0m\u001b[0mX_val\u001b[0m\u001b[1;33m,\u001b[0m \u001b[0my_val\u001b[0m\u001b[1;33m,\u001b[0m \u001b[0my_pred\u001b[0m\u001b[1;33m,\u001b[0m \u001b[0mrows_region\u001b[0m\u001b[1;33m,\u001b[0m \u001b[0mrows_store\u001b[0m\u001b[1;33m)\u001b[0m\u001b[1;33m\u001b[0m\u001b[0m\n\u001b[0m\u001b[0;32m      9\u001b[0m     \u001b[0mprint\u001b[0m\u001b[1;33m(\u001b[0m\u001b[1;34m\"bipmeter:  {:6.4f}\"\u001b[0m\u001b[1;33m.\u001b[0m\u001b[0mformat\u001b[0m\u001b[1;33m(\u001b[0m\u001b[0mbipmeter\u001b[0m\u001b[1;33m(\u001b[0m\u001b[0mX_val\u001b[0m\u001b[1;33m,\u001b[0m\u001b[0my_val\u001b[0m\u001b[1;33m,\u001b[0m\u001b[0my_pred\u001b[0m\u001b[1;33m,\u001b[0m\u001b[0mrows_region\u001b[0m\u001b[1;33m,\u001b[0m\u001b[0mrows_store\u001b[0m\u001b[1;33m)\u001b[0m\u001b[1;33m)\u001b[0m\u001b[1;33m)\u001b[0m\u001b[1;33m\u001b[0m\u001b[0m\n\u001b[0;32m     10\u001b[0m \u001b[1;33m\u001b[0m\u001b[0m\n",
      "\u001b[1;32m<ipython-input-8-aa261410d311>\u001b[0m in \u001b[0;36mbip_metric\u001b[1;34m(X_val, y_val, y_pred, rows_region, rows_store)\u001b[0m\n\u001b[0;32m     14\u001b[0m \u001b[1;33m\u001b[0m\u001b[0m\n\u001b[0;32m     15\u001b[0m         \u001b[0mregion\u001b[0m \u001b[1;33m=\u001b[0m \u001b[1;34m'Region_'\u001b[0m \u001b[1;33m+\u001b[0m \u001b[0mstr\u001b[0m\u001b[1;33m(\u001b[0m\u001b[0mr\u001b[0m\u001b[1;33m)\u001b[0m\u001b[1;33m\u001b[0m\u001b[0m\n\u001b[1;32m---> 16\u001b[1;33m         \u001b[0md\u001b[0m \u001b[1;33m=\u001b[0m \u001b[0mX_val\u001b[0m\u001b[1;33m.\u001b[0m\u001b[0mloc\u001b[0m\u001b[1;33m[\u001b[0m\u001b[0mX_val\u001b[0m\u001b[1;33m[\u001b[0m\u001b[0mregion\u001b[0m\u001b[1;33m]\u001b[0m \u001b[1;33m==\u001b[0m \u001b[1;36m1\u001b[0m\u001b[1;33m]\u001b[0m\u001b[1;33m\u001b[0m\u001b[0m\n\u001b[0m\u001b[0;32m     17\u001b[0m \u001b[1;33m\u001b[0m\u001b[0m\n\u001b[0;32m     18\u001b[0m         \u001b[0merror\u001b[0m \u001b[1;33m=\u001b[0m \u001b[1;36m0\u001b[0m\u001b[1;33m\u001b[0m\u001b[0m\n",
      "\u001b[1;32m~\\Anaconda3\\lib\\site-packages\\pandas\\core\\frame.py\u001b[0m in \u001b[0;36m__getitem__\u001b[1;34m(self, key)\u001b[0m\n\u001b[0;32m   2137\u001b[0m             \u001b[1;32mreturn\u001b[0m \u001b[0mself\u001b[0m\u001b[1;33m.\u001b[0m\u001b[0m_getitem_multilevel\u001b[0m\u001b[1;33m(\u001b[0m\u001b[0mkey\u001b[0m\u001b[1;33m)\u001b[0m\u001b[1;33m\u001b[0m\u001b[0m\n\u001b[0;32m   2138\u001b[0m         \u001b[1;32melse\u001b[0m\u001b[1;33m:\u001b[0m\u001b[1;33m\u001b[0m\u001b[0m\n\u001b[1;32m-> 2139\u001b[1;33m             \u001b[1;32mreturn\u001b[0m \u001b[0mself\u001b[0m\u001b[1;33m.\u001b[0m\u001b[0m_getitem_column\u001b[0m\u001b[1;33m(\u001b[0m\u001b[0mkey\u001b[0m\u001b[1;33m)\u001b[0m\u001b[1;33m\u001b[0m\u001b[0m\n\u001b[0m\u001b[0;32m   2140\u001b[0m \u001b[1;33m\u001b[0m\u001b[0m\n\u001b[0;32m   2141\u001b[0m     \u001b[1;32mdef\u001b[0m \u001b[0m_getitem_column\u001b[0m\u001b[1;33m(\u001b[0m\u001b[0mself\u001b[0m\u001b[1;33m,\u001b[0m \u001b[0mkey\u001b[0m\u001b[1;33m)\u001b[0m\u001b[1;33m:\u001b[0m\u001b[1;33m\u001b[0m\u001b[0m\n",
      "\u001b[1;32m~\\Anaconda3\\lib\\site-packages\\pandas\\core\\frame.py\u001b[0m in \u001b[0;36m_getitem_column\u001b[1;34m(self, key)\u001b[0m\n\u001b[0;32m   2144\u001b[0m         \u001b[1;31m# get column\u001b[0m\u001b[1;33m\u001b[0m\u001b[1;33m\u001b[0m\u001b[0m\n\u001b[0;32m   2145\u001b[0m         \u001b[1;32mif\u001b[0m \u001b[0mself\u001b[0m\u001b[1;33m.\u001b[0m\u001b[0mcolumns\u001b[0m\u001b[1;33m.\u001b[0m\u001b[0mis_unique\u001b[0m\u001b[1;33m:\u001b[0m\u001b[1;33m\u001b[0m\u001b[0m\n\u001b[1;32m-> 2146\u001b[1;33m             \u001b[1;32mreturn\u001b[0m \u001b[0mself\u001b[0m\u001b[1;33m.\u001b[0m\u001b[0m_get_item_cache\u001b[0m\u001b[1;33m(\u001b[0m\u001b[0mkey\u001b[0m\u001b[1;33m)\u001b[0m\u001b[1;33m\u001b[0m\u001b[0m\n\u001b[0m\u001b[0;32m   2147\u001b[0m \u001b[1;33m\u001b[0m\u001b[0m\n\u001b[0;32m   2148\u001b[0m         \u001b[1;31m# duplicate columns & possible reduce dimensionality\u001b[0m\u001b[1;33m\u001b[0m\u001b[1;33m\u001b[0m\u001b[0m\n",
      "\u001b[1;32m~\\Anaconda3\\lib\\site-packages\\pandas\\core\\generic.py\u001b[0m in \u001b[0;36m_get_item_cache\u001b[1;34m(self, item)\u001b[0m\n\u001b[0;32m   1840\u001b[0m         \u001b[0mres\u001b[0m \u001b[1;33m=\u001b[0m \u001b[0mcache\u001b[0m\u001b[1;33m.\u001b[0m\u001b[0mget\u001b[0m\u001b[1;33m(\u001b[0m\u001b[0mitem\u001b[0m\u001b[1;33m)\u001b[0m\u001b[1;33m\u001b[0m\u001b[0m\n\u001b[0;32m   1841\u001b[0m         \u001b[1;32mif\u001b[0m \u001b[0mres\u001b[0m \u001b[1;32mis\u001b[0m \u001b[1;32mNone\u001b[0m\u001b[1;33m:\u001b[0m\u001b[1;33m\u001b[0m\u001b[0m\n\u001b[1;32m-> 1842\u001b[1;33m             \u001b[0mvalues\u001b[0m \u001b[1;33m=\u001b[0m \u001b[0mself\u001b[0m\u001b[1;33m.\u001b[0m\u001b[0m_data\u001b[0m\u001b[1;33m.\u001b[0m\u001b[0mget\u001b[0m\u001b[1;33m(\u001b[0m\u001b[0mitem\u001b[0m\u001b[1;33m)\u001b[0m\u001b[1;33m\u001b[0m\u001b[0m\n\u001b[0m\u001b[0;32m   1843\u001b[0m             \u001b[0mres\u001b[0m \u001b[1;33m=\u001b[0m \u001b[0mself\u001b[0m\u001b[1;33m.\u001b[0m\u001b[0m_box_item_values\u001b[0m\u001b[1;33m(\u001b[0m\u001b[0mitem\u001b[0m\u001b[1;33m,\u001b[0m \u001b[0mvalues\u001b[0m\u001b[1;33m)\u001b[0m\u001b[1;33m\u001b[0m\u001b[0m\n\u001b[0;32m   1844\u001b[0m             \u001b[0mcache\u001b[0m\u001b[1;33m[\u001b[0m\u001b[0mitem\u001b[0m\u001b[1;33m]\u001b[0m \u001b[1;33m=\u001b[0m \u001b[0mres\u001b[0m\u001b[1;33m\u001b[0m\u001b[0m\n",
      "\u001b[1;32m~\\Anaconda3\\lib\\site-packages\\pandas\\core\\internals.py\u001b[0m in \u001b[0;36mget\u001b[1;34m(self, item, fastpath)\u001b[0m\n\u001b[0;32m   3841\u001b[0m \u001b[1;33m\u001b[0m\u001b[0m\n\u001b[0;32m   3842\u001b[0m             \u001b[1;32mif\u001b[0m \u001b[1;32mnot\u001b[0m \u001b[0misna\u001b[0m\u001b[1;33m(\u001b[0m\u001b[0mitem\u001b[0m\u001b[1;33m)\u001b[0m\u001b[1;33m:\u001b[0m\u001b[1;33m\u001b[0m\u001b[0m\n\u001b[1;32m-> 3843\u001b[1;33m                 \u001b[0mloc\u001b[0m \u001b[1;33m=\u001b[0m \u001b[0mself\u001b[0m\u001b[1;33m.\u001b[0m\u001b[0mitems\u001b[0m\u001b[1;33m.\u001b[0m\u001b[0mget_loc\u001b[0m\u001b[1;33m(\u001b[0m\u001b[0mitem\u001b[0m\u001b[1;33m)\u001b[0m\u001b[1;33m\u001b[0m\u001b[0m\n\u001b[0m\u001b[0;32m   3844\u001b[0m             \u001b[1;32melse\u001b[0m\u001b[1;33m:\u001b[0m\u001b[1;33m\u001b[0m\u001b[0m\n\u001b[0;32m   3845\u001b[0m                 \u001b[0mindexer\u001b[0m \u001b[1;33m=\u001b[0m \u001b[0mnp\u001b[0m\u001b[1;33m.\u001b[0m\u001b[0marange\u001b[0m\u001b[1;33m(\u001b[0m\u001b[0mlen\u001b[0m\u001b[1;33m(\u001b[0m\u001b[0mself\u001b[0m\u001b[1;33m.\u001b[0m\u001b[0mitems\u001b[0m\u001b[1;33m)\u001b[0m\u001b[1;33m)\u001b[0m\u001b[1;33m[\u001b[0m\u001b[0misna\u001b[0m\u001b[1;33m(\u001b[0m\u001b[0mself\u001b[0m\u001b[1;33m.\u001b[0m\u001b[0mitems\u001b[0m\u001b[1;33m)\u001b[0m\u001b[1;33m]\u001b[0m\u001b[1;33m\u001b[0m\u001b[0m\n",
      "\u001b[1;32m~\\Anaconda3\\lib\\site-packages\\pandas\\core\\indexes\\base.py\u001b[0m in \u001b[0;36mget_loc\u001b[1;34m(self, key, method, tolerance)\u001b[0m\n\u001b[0;32m   2525\u001b[0m                 \u001b[1;32mreturn\u001b[0m \u001b[0mself\u001b[0m\u001b[1;33m.\u001b[0m\u001b[0m_engine\u001b[0m\u001b[1;33m.\u001b[0m\u001b[0mget_loc\u001b[0m\u001b[1;33m(\u001b[0m\u001b[0mkey\u001b[0m\u001b[1;33m)\u001b[0m\u001b[1;33m\u001b[0m\u001b[0m\n\u001b[0;32m   2526\u001b[0m             \u001b[1;32mexcept\u001b[0m \u001b[0mKeyError\u001b[0m\u001b[1;33m:\u001b[0m\u001b[1;33m\u001b[0m\u001b[0m\n\u001b[1;32m-> 2527\u001b[1;33m                 \u001b[1;32mreturn\u001b[0m \u001b[0mself\u001b[0m\u001b[1;33m.\u001b[0m\u001b[0m_engine\u001b[0m\u001b[1;33m.\u001b[0m\u001b[0mget_loc\u001b[0m\u001b[1;33m(\u001b[0m\u001b[0mself\u001b[0m\u001b[1;33m.\u001b[0m\u001b[0m_maybe_cast_indexer\u001b[0m\u001b[1;33m(\u001b[0m\u001b[0mkey\u001b[0m\u001b[1;33m)\u001b[0m\u001b[1;33m)\u001b[0m\u001b[1;33m\u001b[0m\u001b[0m\n\u001b[0m\u001b[0;32m   2528\u001b[0m \u001b[1;33m\u001b[0m\u001b[0m\n\u001b[0;32m   2529\u001b[0m         \u001b[0mindexer\u001b[0m \u001b[1;33m=\u001b[0m \u001b[0mself\u001b[0m\u001b[1;33m.\u001b[0m\u001b[0mget_indexer\u001b[0m\u001b[1;33m(\u001b[0m\u001b[1;33m[\u001b[0m\u001b[0mkey\u001b[0m\u001b[1;33m]\u001b[0m\u001b[1;33m,\u001b[0m \u001b[0mmethod\u001b[0m\u001b[1;33m=\u001b[0m\u001b[0mmethod\u001b[0m\u001b[1;33m,\u001b[0m \u001b[0mtolerance\u001b[0m\u001b[1;33m=\u001b[0m\u001b[0mtolerance\u001b[0m\u001b[1;33m)\u001b[0m\u001b[1;33m\u001b[0m\u001b[0m\n",
      "\u001b[1;32mpandas/_libs/index.pyx\u001b[0m in \u001b[0;36mpandas._libs.index.IndexEngine.get_loc\u001b[1;34m()\u001b[0m\n",
      "\u001b[1;32mpandas/_libs/index.pyx\u001b[0m in \u001b[0;36mpandas._libs.index.IndexEngine.get_loc\u001b[1;34m()\u001b[0m\n",
      "\u001b[1;32mpandas/_libs/hashtable_class_helper.pxi\u001b[0m in \u001b[0;36mpandas._libs.hashtable.PyObjectHashTable.get_item\u001b[1;34m()\u001b[0m\n",
      "\u001b[1;32mpandas/_libs/hashtable_class_helper.pxi\u001b[0m in \u001b[0;36mpandas._libs.hashtable.PyObjectHashTable.get_item\u001b[1;34m()\u001b[0m\n",
      "\u001b[1;31mKeyError\u001b[0m: 'Region_2'"
     ]
    }
   ],
   "source": [
    "score = crossvalidation(df,rows_store, rows_region, nfolds=8, \n",
    "                        n_estimators=50, n_jobs=3, verbose=True)\n",
    "\n",
    "print(\"Total score: {:6.4f}\".format(score))"
   ]
  },
  {
   "cell_type": "code",
   "execution_count": null,
   "metadata": {},
   "outputs": [],
   "source": [
    "score_ts = crossvalidation_TS(df,rows_store, rows_region, nfolds=8, \n",
    "                              n_estimators=50, n_jobs=3, verbose=True)\n",
    "\n",
    "print(\"Total score: {:6.4f}\".format(score_ts))"
   ]
  },
  {
   "cell_type": "markdown",
   "metadata": {},
   "source": [
    "#### Cross-validation: Random Forest, 50 trees, 8 folds\n",
    "    Partial score: 0.0215\n",
    "    Partial score: 0.0203\n",
    "    Partial score: 0.0356\n",
    "    Partial score: 0.0227\n",
    "    Partial score: 0.0263\n",
    "    Partial score: 0.0204\n",
    "    Partial score: 0.0243\n",
    "    Partial score: 0.0316\n",
    "    Total score: 0.0253\n",
    "    \n",
    "    \n",
    "#### Bipmeter\n",
    "    Partial score: 0.0580\n",
    "    Partial score: 0.0607\n",
    "    Partial score: 0.0448\n",
    "    Partial score: 0.0530\n",
    "    Partial score: 0.0593\n",
    "    Partial score: 0.0556\n",
    "    Partial score: 0.0551\n",
    "    Partial score: 0.0571\n",
    "    Total score: 0.0554\n"
   ]
  },
  {
   "cell_type": "code",
   "execution_count": null,
   "metadata": {},
   "outputs": [],
   "source": [
    "## questo notebook:\n",
    "# senza StoreID\n",
    "# con NumberOfSales reali\n",
    "# con tutti i dati\n",
    "\n",
    "## da fare:\n",
    "# per store\n",
    "# con i dati dello store"
   ]
  },
  {
   "cell_type": "code",
   "execution_count": null,
   "metadata": {},
   "outputs": [],
   "source": [
    "# TODO add MAE, MSE, errore per regione"
   ]
  }
 ],
 "metadata": {
  "kernelspec": {
   "display_name": "Python 3",
   "language": "python",
   "name": "python3"
  },
  "language_info": {
   "codemirror_mode": {
    "name": "ipython",
    "version": 3
   },
   "file_extension": ".py",
   "mimetype": "text/x-python",
   "name": "python",
   "nbconvert_exporter": "python",
   "pygments_lexer": "ipython3",
   "version": "3.6.1"
  }
 },
 "nbformat": 4,
 "nbformat_minor": 2
}
