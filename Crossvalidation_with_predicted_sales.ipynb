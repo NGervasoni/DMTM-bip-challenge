{
 "cells": [
  {
   "cell_type": "code",
   "execution_count": 1,
   "metadata": {
    "scrolled": true
   },
   "outputs": [],
   "source": [
    "import pandas as pd\n",
    "import numpy as np\n",
    "import datetime as dt\n",
    "import dateutil.relativedelta\n",
    "from IPython.display import clear_output\n",
    "from sklearn.ensemble import RandomForestRegressor\n",
    "from sklearn.model_selection import KFold, TimeSeriesSplit"
   ]
  },
  {
   "cell_type": "code",
   "execution_count": 2,
   "metadata": {},
   "outputs": [],
   "source": [
    "def find_nan_features(df):\n",
    "    null_cols = []\n",
    "    for col in df.columns:\n",
    "        if df[col].isnull().values.any():\n",
    "            null_cols.append(col)\n",
    "    return null_cols"
   ]
  },
  {
   "cell_type": "code",
   "execution_count": 3,
   "metadata": {},
   "outputs": [],
   "source": [
    "def remove_nan_rows(df):\n",
    "    # getting indices (rows) of all NaN values\n",
    "    inds = pd.isnull(df).any(1).nonzero()[0]\n",
    "\n",
    "    # drop all the rows with NaN values\n",
    "    return df.drop(df.index[inds])"
   ]
  },
  {
   "cell_type": "code",
   "execution_count": 4,
   "metadata": {},
   "outputs": [],
   "source": [
    "def split(df, train_fraction):\n",
    "    mindate = df.Date.min()\n",
    "    maxdate = df.Date.max()\n",
    "    splitdate = mindate + (maxdate - mindate) * train_fraction\n",
    "    train = df[df.Date < splitdate]\n",
    "    test = df[df.Date >= splitdate]\n",
    "    return train, test"
   ]
  },
  {
   "cell_type": "code",
   "execution_count": 5,
   "metadata": {},
   "outputs": [],
   "source": [
    "def get_x_y(df):\n",
    "    # split set in data and target\n",
    "    X = df.drop('NumberOfSales', axis=1)\n",
    "    y = df[\"NumberOfSales\"]\n",
    "    return X, y"
   ]
  },
  {
   "cell_type": "code",
   "execution_count": 6,
   "metadata": {},
   "outputs": [],
   "source": [
    "def train_model(X_train, y_train, n_estimators=250, n_jobs=1):\n",
    "    # fit random forest with 250 trees\n",
    "    forest = RandomForestRegressor(n_estimators=n_estimators, random_state=0, n_jobs=n_jobs)\n",
    "    forest.fit(X_train, y_train)\n",
    "    return forest"
   ]
  },
  {
   "cell_type": "code",
   "execution_count": 7,
   "metadata": {},
   "outputs": [],
   "source": [
    "def bip_metric(X_val, y_val, y_pred, rows_region):\n",
    "    e_r = []\n",
    "    month_sum = []\n",
    "    \n",
    "    # add regions to compute the metric\n",
    "    X_val['Region'] = rows_region\n",
    "    # DEBUG\n",
    "#     print(X_val.Region.unique())\n",
    "    X_val = pd.get_dummies(X_val, columns=['Region'], prefix='Region')\n",
    "    \n",
    "    # adjust shape\n",
    "    X_val = X_val.reset_index(drop=True)\n",
    "    y_pred = y_pred.tolist()\n",
    "    y_val = y_val.tolist()\n",
    "\n",
    "    for r in rows_region.unique():\n",
    "\n",
    "        region = 'Region_' + str(r)\n",
    "        d = X_val.loc[X_val[region] == 1]\n",
    "\n",
    "        error = 0\n",
    "        y_somma = 0\n",
    "  \n",
    "        # cycle through stores\n",
    "        for i in range(1000,1736): \n",
    "               \n",
    "            for m in range(1,13):\n",
    "                sum_pred_month = 0\n",
    "                sum_actual_month = 0\n",
    "                indexes = d.index[(d['StoreID'] == i) & (d['Month'] == m)].tolist()\n",
    "                \n",
    "                for j in indexes:\n",
    "           \n",
    "                    sum_pred_month += y_pred[j]\n",
    "                    sum_actual_month += y_val[j]\n",
    "\n",
    "                error += abs(sum_actual_month - sum_pred_month)\n",
    "                y_somma = y_somma + sum_actual_month\n",
    "\n",
    "    e_r.append(error/y_somma)\n",
    "\n",
    "    return sum(e_r)/len(e_r)"
   ]
  },
  {
   "cell_type": "code",
   "execution_count": 8,
   "metadata": {},
   "outputs": [],
   "source": [
    "def eval_model_with_predicted_sales(X_val, y_val, model, df_dates, store_ids, val_date, rows_region, verbose=False):\n",
    "    \n",
    "    # prepare the dataframe where store the prediction\n",
    "    y_predicted = pd.DataFrame(np.nan, index=X_val.index, columns=['NumberOfSales'])\n",
    "    \n",
    "    i = 0\n",
    "    for index, row in X_val.iterrows():\n",
    "        i += 1\n",
    "#         if verbose:\n",
    "            # DEBUG\n",
    "#             print('processing... ' , i/len(X_val.index))\n",
    "\n",
    "        # get from train set all the rows about this store\n",
    "        temp = df_dates.loc[df_dates.StoreID == store_ids[index]]\n",
    "\n",
    "        # get the date of the 'row' \n",
    "        date = temp.loc[index]\n",
    "        date = date['Date']\n",
    "    \n",
    "        # get all the data from the last month\n",
    "        splitdate = date + dateutil.relativedelta.relativedelta(days=-31)\n",
    "        temp = temp[temp.Date >= splitdate]\n",
    "        temp = temp[temp.Date <= date]\n",
    "\n",
    "        temp.sort_values(by='Date')\n",
    "        # switch index to timestamps to make this easier\n",
    "        oldindex = temp.index\n",
    "        temp.index = temp['Date']\n",
    "\n",
    "        temp['NumberOfSales_yesterday'] = temp.NumberOfSales.rolling(window='1d',closed='left', min_periods=1).sum()\n",
    "        temp['NumberOfSales_lastweek'] = temp.NumberOfSales.rolling(window='7d',closed='left', min_periods=1).sum()\n",
    "        temp['NumberOfSales_lastmonth'] = temp.NumberOfSales.rolling(window='30d',closed='left', min_periods=1).sum()\n",
    "\n",
    "        temp.NumberOfSales_yesterday = temp.NumberOfSales_yesterday.fillna(0)\n",
    "        temp.NumberOfSales_lastweek = temp.NumberOfSales_lastweek.fillna(0)\n",
    "\n",
    "        # put it back in the dataframe\n",
    "        temp.index = oldindex\n",
    "\n",
    "        # put the result in 'row'\n",
    "        row['NumberOfSales_yesterday'] = temp.loc[index,'NumberOfSales_yesterday']\n",
    "        row['NumberOfSales_lastweek'] = temp.loc[index,'NumberOfSales_lastweek']\n",
    "        row['NumberOfSales_lastmonth'] = temp.loc[index,'NumberOfSales_lastmonth']\n",
    "\n",
    "        # predict NumberOfSales of today\n",
    "        temp.loc[index,'NumberOfSales'] = model.predict(row.values.reshape(1, -1))\n",
    "\n",
    "        # at the next iter my I can use this prediction for a new rolling\n",
    "        df_dates.loc[index] = temp.loc[index]\n",
    "\n",
    "        y_predicted.loc[index] = temp.loc[index,'NumberOfSales'] \n",
    "    \n",
    "    y_pred = y_predicted['NumberOfSales']\n",
    "    new_x_val = X_val \n",
    "    new_x_val['Month'] = pd.DatetimeIndex(val_date['Date']).month\n",
    "    new_x_val['StoreID'] = store_ids\n",
    "    score = bip_metric(new_x_val, y_val, y_pred, rows_region)\n",
    "    return score"
   ]
  },
  {
   "cell_type": "code",
   "execution_count": 9,
   "metadata": {},
   "outputs": [],
   "source": [
    "def crossvalidation_TS_pred_sales(df, rows_region, nfolds=8, n_estimators=50, n_jobs=1, verbose=False):\n",
    "    '''Time-Series Crossvalidation on the dataset `df` with `nfolds` folds.\n",
    "    Split the dataset in N training-validation folds,\n",
    "    trains and evaluates results for each of them,\n",
    "    returns the mean of the error and metrics'''\n",
    "    # convert date to datetime\n",
    "    if df['Date'].dtype == np.dtype('O'):\n",
    "        df['Date'] = pd.to_datetime(df['Date'], format='%Y-%m-%d')\n",
    "        \n",
    "    # add temporary columns to compute splits\n",
    "    df['Year_CV'] = df['Date'].dt.year\n",
    "    df['Month_CV'] = df['Date'].dt.month\n",
    "    \n",
    "    # get all year-month pairs\n",
    "    l = sorted(list(set(df[['Year_CV', 'Month_CV']].itertuples(index=False))))\n",
    "    \n",
    "    # drop temporary columns\n",
    "    df = df.drop(['Year_CV', 'Month_CV'], axis=1)\n",
    "    \n",
    "    # split dataset in folds\n",
    "    kf = TimeSeriesSplit(nfolds)\n",
    "    indexes = []\n",
    "    for train_months_idx, val_months_idx in kf.split(l):\n",
    "        train_months = [l[i] for i in train_months_idx]\n",
    "        val_months = [l[i] for i in val_months_idx]\n",
    "        train_indexes = df.Date.apply(lambda d: (d.year, d.month) in train_months)\n",
    "        val_indexes = df.Date.apply(lambda d: (d.year, d.month) in val_months)\n",
    "        indexes.append((train_indexes, val_indexes))\n",
    "\n",
    "    # iterate on the folds\n",
    "    total_score = 0\n",
    "    i = 0\n",
    "    for train_indexes, val_indexes in indexes:\n",
    "        i += 1\n",
    "        if verbose:\n",
    "            print('Starting fold {}'.format(i))\n",
    "        # split\n",
    "        df_train = df[train_indexes]\n",
    "        df_validation = df[val_indexes]\n",
    "        \n",
    "        # store Date and ID\n",
    "        val_date = pd.DataFrame(df_validation['Date'])\n",
    "        val_store_id = df_validation['StoreID']\n",
    "        \n",
    "        # and drop them\n",
    "        df_train = df_train.drop('Date', axis=1)\n",
    "        df_validation = df_validation.drop('Date', axis=1)\n",
    "\n",
    "        df_train = df_train.drop('StoreID', axis=1)\n",
    "        df_validation = df_validation.drop('StoreID', axis=1)\n",
    "        \n",
    "        # train model\n",
    "        X_train, y_train = get_x_y(df_train)\n",
    "        model = train_model(X_train, y_train, n_estimators=n_estimators, n_jobs=n_jobs)\n",
    "        \n",
    "        # evaluate model\n",
    "        X_val, y_val = get_x_y(df_validation)\n",
    "        \n",
    "#         months = pd.DatetimeIndex(val_date['Date']).month\n",
    "        score = eval_model_with_predicted_sales(X_val, y_val, model, df, val_store_id, val_date, rows_region, verbose=verbose)\n",
    "        if verbose:\n",
    "            print('Partial score: {:6.4f}'.format(score))\n",
    "        total_score += score\n",
    "        \n",
    "    return total_score / nfolds"
   ]
  },
  {
   "cell_type": "markdown",
   "metadata": {},
   "source": [
    "### Load dataset"
   ]
  },
  {
   "cell_type": "code",
   "execution_count": 10,
   "metadata": {
    "scrolled": true
   },
   "outputs": [],
   "source": [
    "# load preprocessed csv to dataframe\n",
    "df = pd.read_csv('preprocessed_train.csv')\n",
    "\n",
    "# debug\n",
    "df = df[df.StoreID == 1000]"
   ]
  },
  {
   "cell_type": "markdown",
   "metadata": {},
   "source": [
    "### Prepare dataset"
   ]
  },
  {
   "cell_type": "code",
   "execution_count": 11,
   "metadata": {},
   "outputs": [],
   "source": [
    "# Save region for each index\n",
    "rows_region = df['Region']\n",
    "\n",
    "# Choose features\n",
    "selected_features=[\n",
    "    'NumberOfSales',\n",
    "    'NumberOfSales_lastmonth', \n",
    "    'HasPromotions', \n",
    "    'NumberOfSales_yesterday', \n",
    "    'NumberOfSales_lastweek',\n",
    "    'IsOpen_yesterday',\n",
    "    'DayOfWeek',\n",
    "    'NearestCompetitor',\n",
    "    'Week',\n",
    "    'StoreID',\n",
    "    'IsHoliday_tomorrow',\n",
    "    'Date'] # droppata dopo\n",
    "\n",
    "df = df[selected_features]"
   ]
  },
  {
   "cell_type": "code",
   "execution_count": 12,
   "metadata": {},
   "outputs": [
    {
     "name": "stdout",
     "output_type": "stream",
     "text": [
      "Features with NaN:\n",
      "NumberOfSales_lastmonth\n",
      "NumberOfSales_yesterday\n",
      "NumberOfSales_lastweek\n",
      "IsOpen_yesterday\n",
      "IsHoliday_tomorrow\n"
     ]
    }
   ],
   "source": [
    "# Look for features with NaN values\n",
    "null_cols = find_nan_features(df)\n",
    "print('Features with NaN:')\n",
    "for col in null_cols:\n",
    "    print(col)\n",
    "    \n",
    "# drop all rows with NaN values\n",
    "df = remove_nan_rows(df)"
   ]
  },
  {
   "cell_type": "markdown",
   "metadata": {},
   "source": [
    "### Cross-validation"
   ]
  },
  {
   "cell_type": "code",
   "execution_count": 13,
   "metadata": {},
   "outputs": [
    {
     "name": "stdout",
     "output_type": "stream",
     "text": [
      "Starting fold 1\n",
      "Partial score: 0.1898\n",
      "Starting fold 2\n",
      "Partial score: 0.0299\n",
      "Starting fold 3\n",
      "Partial score: 0.0979\n",
      "Starting fold 4\n",
      "Partial score: 0.0215\n",
      "Starting fold 5\n",
      "Partial score: 0.0410\n",
      "Starting fold 6\n",
      "Partial score: 0.0619\n",
      "Starting fold 7\n",
      "Partial score: 0.1451\n",
      "Starting fold 8\n",
      "Partial score: 0.1500\n",
      "Total score: 0.0921\n"
     ]
    }
   ],
   "source": [
    "# debug\n",
    "# nfolds = 20\n",
    "nfolds = 8\n",
    "\n",
    "score = crossvalidation_TS_pred_sales(df, rows_region, nfolds=nfolds, \n",
    "                        n_estimators=50, n_jobs=3, verbose=True)\n",
    "\n",
    "print(\"Total score: {:6.4f}\".format(score))"
   ]
  }
 ],
 "metadata": {
  "kernelspec": {
   "display_name": "Python 3",
   "language": "python",
   "name": "python3"
  },
  "language_info": {
   "codemirror_mode": {
    "name": "ipython",
    "version": 3
   },
   "file_extension": ".py",
   "mimetype": "text/x-python",
   "name": "python",
   "nbconvert_exporter": "python",
   "pygments_lexer": "ipython3",
   "version": "3.6.5"
  }
 },
 "nbformat": 4,
 "nbformat_minor": 2
}
