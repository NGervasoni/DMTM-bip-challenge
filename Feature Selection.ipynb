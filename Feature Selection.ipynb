{
 "cells": [
  {
   "cell_type": "code",
   "execution_count": 1,
   "metadata": {},
   "outputs": [],
   "source": [
    "import numpy as np\n",
    "import matplotlib.pyplot as plt\n",
    "import pandas as pd\n",
    "import random\n",
    "\n",
    "from sklearn import datasets\n",
    "from sklearn import linear_model\n",
    "from sklearn import naive_bayes\n",
    "from sklearn import neighbors\n",
    "from sklearn import linear_model\n",
    "from sklearn.ensemble import ExtraTreesRegressor\n",
    "from sklearn.ensemble import RandomForestRegressor\n",
    "\n",
    "from sklearn.feature_selection import SelectFromModel\n",
    "from sklearn.feature_selection import VarianceThreshold\n",
    "\n",
    "from sklearn.decomposition import PCA\n",
    "\n",
    "from sklearn.model_selection import StratifiedKFold\n",
    "from sklearn.model_selection import KFold\n",
    "from sklearn.model_selection import cross_val_score\n"
   ]
  },
  {
   "cell_type": "markdown",
   "metadata": {},
   "source": [
    "# Features selection"
   ]
  },
  {
   "cell_type": "code",
   "execution_count": 2,
   "metadata": {},
   "outputs": [],
   "source": [
    "\n",
    "df = pd.read_csv('preprocessed_train.csv')\n"
   ]
  },
  {
   "cell_type": "code",
   "execution_count": 3,
   "metadata": {},
   "outputs": [],
   "source": [
    "# Sistemo i dati per regression tree\n",
    "\n",
    "# One-Hot Encoding \n",
    "# nb: pd.get_dummies rimuove le colonne direttamente\n",
    "\n",
    "# ## StoreId\n",
    "# df = pd.get_dummies(df, columns=['StoreID'], prefix='StoreID')\n",
    "\n",
    "df.drop('StoreID',axis=1)\n",
    "\n",
    " ## StoreType\n",
    "df = pd.get_dummies(df, columns=['StoreType'], prefix='StoreType')\n",
    "\n",
    " ## AssortmentType\n",
    "df = pd.get_dummies(df, columns=['AssortmentType'], prefix='AssortmentType')\n",
    "\n",
    "# ## Region\n",
    "df = pd.get_dummies(df, columns=['Region'], prefix='Region')\n",
    "\n",
    "# ## Events\n",
    "# df = pd.get_dummies(df, columns=['Events'], prefix='Events', dummy_na=True)\n",
    "### inutile se possiamo usare categorie con decision tree\n",
    "\n",
    "# numeric features to categories (strings)\n",
    "#df.StoreID = df.StoreID.astype(str)\n",
    "#df.Region = df.Region.astype(str)"
   ]
  },
  {
   "cell_type": "code",
   "execution_count": 4,
   "metadata": {},
   "outputs": [
    {
     "data": {
      "text/plain": [
       "CloudCover                                      6\n",
       "Events                                        NaN\n",
       "HasPromotions                                   0\n",
       "IsHoliday                                       0\n",
       "IsOpen                                          1\n",
       "Max_Dew_PointC                                 -2\n",
       "Max_Gust_SpeedKm_h                             21\n",
       "Max_Humidity                                   87\n",
       "Max_Sea_Level_PressurehPa                    1009\n",
       "Max_TemperatureC                                6\n",
       "Max_VisibilityKm                               11\n",
       "Max_Wind_SpeedKm_h                             21\n",
       "Mean_Dew_PointC                                -3\n",
       "Mean_Humidity                                  64\n",
       "Mean_Sea_Level_PressurehPa                   1006\n",
       "Mean_TemperatureC                               2\n",
       "Mean_VisibilityKm                               8\n",
       "Mean_Wind_SpeedKm_h                            13\n",
       "Min_Dew_PointC                                 -6\n",
       "Min_Humidity                                   34\n",
       "Min_Sea_Level_PressurehPa                    1005\n",
       "Min_TemperatureC                               -1\n",
       "Min_VisibilitykM                                5\n",
       "NearestCompetitor                             326\n",
       "NumberOfSales                               11129\n",
       "Precipitationmm                                 0\n",
       "Region_PopulationK                           2770\n",
       "StoreID                                      1000\n",
       "DayOfWeek                                       5\n",
       "Month                                           4\n",
       "Week                                           13\n",
       "Quarter                                         2\n",
       "IsOpen_yesterday                                0\n",
       "IsOpen_tomorrow                                 0\n",
       "IsHoliday_yesterday                             1\n",
       "IsHoliday_tomorrow                              0\n",
       "NumberOfSales_yesterday                         0\n",
       "NumberOfSales_lastweek                      44106\n",
       "NumberOfSales_lastmonth                    186345\n",
       "StoreType_Hyper Market                          1\n",
       "StoreType_Shopping Center                       0\n",
       "StoreType_Standard Market                       0\n",
       "StoreType_Super Market                          0\n",
       "AssortmentType_General                          1\n",
       "AssortmentType_With Fish Department             0\n",
       "AssortmentType_With Non-Food Department         0\n",
       "Region_0                                        0\n",
       "Region_1                                        0\n",
       "Region_2                                        0\n",
       "Region_3                                        0\n",
       "Region_4                                        0\n",
       "Region_5                                        0\n",
       "Region_6                                        0\n",
       "Region_7                                        1\n",
       "Region_8                                        0\n",
       "Region_9                                        0\n",
       "Region_10                                       0\n",
       "Name: 0, dtype: object"
      ]
     },
     "execution_count": 4,
     "metadata": {},
     "output_type": "execute_result"
    }
   ],
   "source": [
    "df.iloc[0]"
   ]
  },
  {
   "cell_type": "code",
   "execution_count": 5,
   "metadata": {},
   "outputs": [],
   "source": [
    "# No-Events (NaN) are considered as sunny days, with lowest value (0) on the events scale\n",
    "df['Events'] = df['Events'].fillna(0)"
   ]
  },
  {
   "cell_type": "code",
   "execution_count": 6,
   "metadata": {},
   "outputs": [
    {
     "data": {
      "text/plain": [
       "array([0, 1, 2, 3, 4])"
      ]
     },
     "execution_count": 6,
     "metadata": {},
     "output_type": "execute_result"
    }
   ],
   "source": [
    "df=df.replace({'Rain':1, 'Thunderstorm':1, 'Fog':1, 'Snow': 2, 'Fog-Rain': 2, 'Rain-Thunderstorm': 2, 'Rain-Snow':2, 'Fog-Snow':2, 'Fog-Rain-Snow':3, 'Rain-Hail':3, 'Snow-Hail':3, 'Rain-Snow-Hail':3, 'Fog-Rain-Hail':3, 'Fog-Thunderstorm':3, 'Fog-Rain-Thunderstorm':4, 'Fog-Snow-Hail':4, 'Fog-Rain-Snow-Hail':4, 'Rain-Snow-Thunderstorm':4, 'Rain-Hail-Thunderstorm':4, 'Fog-Rain-Hail-Thunderstorm':4, 'Rain-Snow-Hail-Thunderstorm':4})\n",
    "\n",
    "df['Events'].unique()"
   ]
  },
  {
   "cell_type": "code",
   "execution_count": 7,
   "metadata": {},
   "outputs": [
    {
     "data": {
      "text/plain": [
       "CloudCover                                      6.0\n",
       "Events                                          0.0\n",
       "HasPromotions                                   0.0\n",
       "IsHoliday                                       0.0\n",
       "IsOpen                                          1.0\n",
       "Max_Dew_PointC                                 -2.0\n",
       "Max_Gust_SpeedKm_h                             21.0\n",
       "Max_Humidity                                   87.0\n",
       "Max_Sea_Level_PressurehPa                    1009.0\n",
       "Max_TemperatureC                                6.0\n",
       "Max_VisibilityKm                               11.0\n",
       "Max_Wind_SpeedKm_h                             21.0\n",
       "Mean_Dew_PointC                                -3.0\n",
       "Mean_Humidity                                  64.0\n",
       "Mean_Sea_Level_PressurehPa                   1006.0\n",
       "Mean_TemperatureC                               2.0\n",
       "Mean_VisibilityKm                               8.0\n",
       "Mean_Wind_SpeedKm_h                            13.0\n",
       "Min_Dew_PointC                                 -6.0\n",
       "Min_Humidity                                   34.0\n",
       "Min_Sea_Level_PressurehPa                    1005.0\n",
       "Min_TemperatureC                               -1.0\n",
       "Min_VisibilitykM                                5.0\n",
       "NearestCompetitor                             326.0\n",
       "NumberOfSales                               11129.0\n",
       "Precipitationmm                                 0.0\n",
       "Region_PopulationK                           2770.0\n",
       "StoreID                                      1000.0\n",
       "DayOfWeek                                       5.0\n",
       "Month                                           4.0\n",
       "Week                                           13.0\n",
       "Quarter                                         2.0\n",
       "IsOpen_yesterday                                0.0\n",
       "IsOpen_tomorrow                                 0.0\n",
       "IsHoliday_yesterday                             1.0\n",
       "IsHoliday_tomorrow                              0.0\n",
       "NumberOfSales_yesterday                         0.0\n",
       "NumberOfSales_lastweek                      44106.0\n",
       "NumberOfSales_lastmonth                    186345.0\n",
       "StoreType_Hyper Market                          1.0\n",
       "StoreType_Shopping Center                       0.0\n",
       "StoreType_Standard Market                       0.0\n",
       "StoreType_Super Market                          0.0\n",
       "AssortmentType_General                          1.0\n",
       "AssortmentType_With Fish Department             0.0\n",
       "AssortmentType_With Non-Food Department         0.0\n",
       "Region_0                                        0.0\n",
       "Region_1                                        0.0\n",
       "Region_2                                        0.0\n",
       "Region_3                                        0.0\n",
       "Region_4                                        0.0\n",
       "Region_5                                        0.0\n",
       "Region_6                                        0.0\n",
       "Region_7                                        1.0\n",
       "Region_8                                        0.0\n",
       "Region_9                                        0.0\n",
       "Region_10                                       0.0\n",
       "Name: 0, dtype: float64"
      ]
     },
     "execution_count": 7,
     "metadata": {},
     "output_type": "execute_result"
    }
   ],
   "source": [
    "df.iloc[0]"
   ]
  },
  {
   "cell_type": "code",
   "execution_count": 8,
   "metadata": {},
   "outputs": [],
   "source": [
    "# split trainset in data and target\n",
    "y = df[\"NumberOfSales\"]\n",
    "X = df.drop('NumberOfSales', axis=1)"
   ]
  },
  {
   "cell_type": "code",
   "execution_count": 9,
   "metadata": {
    "scrolled": true
   },
   "outputs": [
    {
     "name": "stdout",
     "output_type": "stream",
     "text": [
      "Features with NaN:\n",
      "Max_VisibilityKm\n",
      "Mean_VisibilityKm\n",
      "Min_VisibilitykM\n",
      "IsOpen_yesterday\n",
      "IsOpen_tomorrow\n",
      "IsHoliday_yesterday\n",
      "IsHoliday_tomorrow\n",
      "NumberOfSales_yesterday\n",
      "NumberOfSales_lastweek\n",
      "NumberOfSales_lastmonth\n"
     ]
    }
   ],
   "source": [
    "# Looking for features with NaN values\n",
    "null_cols = []\n",
    "print('Features with NaN:')\n",
    "for col in X.columns:\n",
    "    if X[col].isnull().values.any():\n",
    "        print(col)\n",
    "        null_cols.append(col)"
   ]
  },
  {
   "cell_type": "code",
   "execution_count": 10,
   "metadata": {},
   "outputs": [],
   "source": [
    "# getting indices (rows) of all NaN values\n",
    "inds = pd.isnull(X).any(1).nonzero()[0]"
   ]
  },
  {
   "cell_type": "code",
   "execution_count": 11,
   "metadata": {},
   "outputs": [],
   "source": [
    "# drop all the rows with NaN values\n",
    "y = y.drop(y.index[inds])\n",
    "X = X.drop(X.index[inds])"
   ]
  },
  {
   "cell_type": "code",
   "execution_count": 12,
   "metadata": {},
   "outputs": [
    {
     "name": "stdout",
     "output_type": "stream",
     "text": [
      "X: (414404, 56)\n",
      "y: (414404,)\n"
     ]
    }
   ],
   "source": [
    "# checking shapes\n",
    "print('X: ' + str(X.shape))\n",
    "print('y: ' + str(y.shape))"
   ]
  },
  {
   "cell_type": "markdown",
   "metadata": {},
   "source": [
    "## Forest-Based features selection"
   ]
  },
  {
   "cell_type": "code",
   "execution_count": 13,
   "metadata": {},
   "outputs": [
    {
     "data": {
      "text/plain": [
       "RandomForestRegressor(bootstrap=True, criterion='mse', max_depth=None,\n",
       "           max_features='auto', max_leaf_nodes=None,\n",
       "           min_impurity_decrease=0.0, min_impurity_split=None,\n",
       "           min_samples_leaf=1, min_samples_split=2,\n",
       "           min_weight_fraction_leaf=0.0, n_estimators=250, n_jobs=1,\n",
       "           oob_score=False, random_state=0, verbose=0, warm_start=False)"
      ]
     },
     "execution_count": 13,
     "metadata": {},
     "output_type": "execute_result"
    }
   ],
   "source": [
    "# fit random forest with 250 trees\n",
    "# forest = ExtraTreesRegressor(n_estimators=250, random_state=0)\n",
    "forest = RandomForestRegressor(n_estimators=250, random_state=0)\n",
    "forest.fit(X, y)"
   ]
  },
  {
   "cell_type": "code",
   "execution_count": 14,
   "metadata": {},
   "outputs": [
    {
     "name": "stdout",
     "output_type": "stream",
     "text": [
      "Feature ranking:\n",
      "1. feature 37 NumberOfSales_lastmonth (0.564279)\n",
      "2. feature 2 HasPromotions (0.143255)\n",
      "3. feature 35 NumberOfSales_yesterday (0.099028)\n",
      "4. feature 36 NumberOfSales_lastweek (0.041700)\n",
      "5. feature 31 IsOpen_yesterday (0.016117)\n",
      "6. feature 27 DayOfWeek (0.014233)\n",
      "7. feature 23 NearestCompetitor (0.013506)\n",
      "8. feature 29 Week (0.011731)\n",
      "9. feature 26 StoreID (0.010718)\n",
      "10. feature 34 IsHoliday_tomorrow (0.004759)\n",
      "11. feature 38 StoreType_Hyper Market (0.004665)\n",
      "12. feature 25 Region_PopulationK (0.003985)\n",
      "13. feature 28 Month (0.003776)\n",
      "14. feature 32 IsOpen_tomorrow (0.003646)\n",
      "15. feature 9 Max_TemperatureC (0.003617)\n",
      "16. feature 19 Min_Humidity (0.003509)\n",
      "17. feature 20 Min_Sea_Level_PressurehPa (0.003425)\n",
      "18. feature 8 Max_Sea_Level_PressurehPa (0.003272)\n",
      "19. feature 17 Mean_Wind_SpeedKm_h (0.002991)\n",
      "20. feature 13 Mean_Humidity (0.002585)\n",
      "21. feature 14 Mean_Sea_Level_PressurehPa (0.002566)\n",
      "22. feature 6 Max_Gust_SpeedKm_h (0.002468)\n",
      "23. feature 18 Min_Dew_PointC (0.002412)\n",
      "24. feature 21 Min_TemperatureC (0.002386)\n",
      "25. feature 5 Max_Dew_PointC (0.002244)\n",
      "26. feature 16 Mean_VisibilityKm (0.002119)\n",
      "27. feature 11 Max_Wind_SpeedKm_h (0.002002)\n",
      "28. feature 24 Precipitationmm (0.001970)\n",
      "29. feature 0 CloudCover (0.001927)\n",
      "30. feature 45 Region_0 (0.001784)\n",
      "31. feature 12 Mean_Dew_PointC (0.001721)\n",
      "32. feature 15 Mean_TemperatureC (0.001681)\n",
      "33. feature 22 Min_VisibilitykM (0.001584)\n",
      "34. feature 10 Max_VisibilityKm (0.001517)\n",
      "35. feature 7 Max_Humidity (0.001488)\n",
      "36. feature 41 StoreType_Super Market (0.001425)\n",
      "37. feature 33 IsHoliday_yesterday (0.001357)\n",
      "38. feature 50 Region_5 (0.001181)\n",
      "39. feature 44 AssortmentType_With Non-Food Department (0.001065)\n",
      "40. feature 47 Region_2 (0.001053)\n",
      "41. feature 39 StoreType_Shopping Center (0.001041)\n",
      "42. feature 42 AssortmentType_General (0.001005)\n",
      "43. feature 40 StoreType_Standard Market (0.000933)\n",
      "44. feature 3 IsHoliday (0.000933)\n",
      "45. feature 1 Events (0.000826)\n",
      "46. feature 46 Region_1 (0.000809)\n",
      "47. feature 55 Region_10 (0.000735)\n",
      "48. feature 48 Region_3 (0.000715)\n",
      "49. feature 54 Region_9 (0.000557)\n",
      "50. feature 51 Region_6 (0.000395)\n",
      "51. feature 52 Region_7 (0.000385)\n",
      "52. feature 30 Quarter (0.000385)\n",
      "53. feature 53 Region_8 (0.000194)\n",
      "54. feature 49 Region_4 (0.000172)\n",
      "55. feature 43 AssortmentType_With Fish Department (0.000171)\n",
      "56. feature 4 IsOpen (0.000000)\n"
     ]
    },
    {
     "data": {
      "image/png": "[encoded data removed]",
      "text/plain": [
       "<Figure size 432x288 with 1 Axes>"
      ]
     },
     "metadata": {},
     "output_type": "display_data"
    }
   ],
   "source": [
    "# preso pari pari dal notebook di Lanzi\n",
    "\n",
    "importances = forest.feature_importances_\n",
    "std = np.std([tree.feature_importances_ for tree in forest.estimators_],\n",
    "             axis=0)\n",
    "indices = np.argsort(importances)[::-1]\n",
    "\n",
    "# Print the feature ranking\n",
    "print(\"Feature ranking:\")\n",
    "\n",
    "for f in range(X.shape[1]):\n",
    "    print(\"%d. feature %d %s (%f)\" % (f + 1, indices[f], X.columns[indices[f]], importances[indices[f]]))\n",
    "\n",
    "# Plot the feature importances of the forest\n",
    "plt.figure()\n",
    "plt.title(\"Feature importances\")\n",
    "plt.bar(range(X.shape[1]), importances[indices],\n",
    "       color=\"r\", yerr=std[indices], align=\"center\")\n",
    "plt.xticks(range(X.shape[1]), X.columns[indices],rotation=90)\n",
    "plt.xlim([-1, X.shape[1]])\n",
    "plt.show()"
   ]
  },
  {
   "cell_type": "code",
   "execution_count": 15,
   "metadata": {},
   "outputs": [],
   "source": [
    "feature_selection_model = SelectFromModel(forest, prefit=True)"
   ]
  },
  {
   "cell_type": "code",
   "execution_count": 16,
   "metadata": {},
   "outputs": [
    {
     "data": {
      "text/plain": [
       "(414404, 4)"
      ]
     },
     "execution_count": 16,
     "metadata": {},
     "output_type": "execute_result"
    }
   ],
   "source": [
    "X_selected_features_forest = feature_selection_model.transform(X)\n",
    "X_selected_features_forest.shape"
   ]
  },
  {
   "cell_type": "markdown",
   "metadata": {},
   "source": [
    "## PCA features selection"
   ]
  },
  {
   "cell_type": "code",
   "execution_count": 17,
   "metadata": {},
   "outputs": [],
   "source": [
    "from sklearn.decomposition import PCA\n",
    "%matplotlib inline\n",
    "\n",
    "full_pca_model = PCA()\n",
    "full_fitted_model = full_pca_model.fit(X)"
   ]
  },
  {
   "cell_type": "code",
   "execution_count": 18,
   "metadata": {},
   "outputs": [
    {
     "data": {
      "image/png": "[encoded data removed]",
      "text/plain": [
       "<Figure size 432x288 with 1 Axes>"
      ]
     },
     "metadata": {},
     "output_type": "display_data"
    }
   ],
   "source": [
    "plt.semilogy(full_fitted_model.explained_variance_ratio_, '--o');"
   ]
  },
  {
   "cell_type": "code",
   "execution_count": 19,
   "metadata": {},
   "outputs": [
    {
     "data": {
      "text/plain": [
       "Text(0,0.5,'Cumulative Explained Variance Ratio')"
      ]
     },
     "execution_count": 19,
     "metadata": {},
     "output_type": "execute_result"
    },
    {
     "data": {
      "image/png": "[encoded data removed]",
      "text/plain": [
       "<Figure size 432x288 with 1 Axes>"
      ]
     },
     "metadata": {},
     "output_type": "display_data"
    }
   ],
   "source": [
    "#Looking for a knee on the plot\n",
    "plt.semilogy(full_fitted_model.explained_variance_ratio_.cumsum(), '--o');\n",
    "plt.xticks(np.arange(0,56,1));\n",
    "plt.xlabel(\"Features\")\n",
    "plt.ylabel(\"Cumulative Explained Variance Ratio\")"
   ]
  },
  {
   "cell_type": "code",
   "execution_count": 20,
   "metadata": {},
   "outputs": [
    {
     "name": "stdout",
     "output_type": "stream",
     "text": [
      "Explained Variance: [0.93098041 0.05381061 0.01003349 0.00305626 0.00210091]\n",
      "Reduced data set shape is  (414404, 5)\n"
     ]
    }
   ],
   "source": [
    "# getting Principal (n) Components and reducing the dataset\n",
    "feature_selection_pca_model = PCA(n_components=5)\n",
    "fitted_model = feature_selection_pca_model.fit(X)\n",
    "X_selected_features_pca = fitted_model.transform(X)\n",
    "print(\"Explained Variance: %s\" % fitted_model.explained_variance_ratio_)\n",
    "print(\"Reduced data set shape is \", X_selected_features_pca.shape)"
   ]
  },
  {
   "cell_type": "code",
   "execution_count": null,
   "metadata": {},
   "outputs": [],
   "source": []
  }
 ],
 "metadata": {
  "kernelspec": {
   "display_name": "Python 3",
   "language": "python",
   "name": "python3"
  },
  "language_info": {
   "codemirror_mode": {
    "name": "ipython",
    "version": 3
   },
   "file_extension": ".py",
   "mimetype": "text/x-python",
   "name": "python",
   "nbconvert_exporter": "python",
   "pygments_lexer": "ipython3",
   "version": "3.6.5"
  }
 },
 "nbformat": 4,
 "nbformat_minor": 2
}
