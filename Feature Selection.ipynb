{
 "cells": [
  {
   "cell_type": "code",
   "execution_count": 1,
   "metadata": {},
   "outputs": [],
   "source": [
    "import numpy as np\n",
    "import matplotlib.pyplot as plt\n",
    "import pandas as pd\n",
    "import random\n",
    "\n",
    "from sklearn import datasets\n",
    "from sklearn import linear_model\n",
    "from sklearn import naive_bayes\n",
    "from sklearn import neighbors\n",
    "from sklearn import linear_model\n",
    "from sklearn.ensemble import ExtraTreesRegressor\n",
    "from sklearn.ensemble import RandomForestRegressor\n",
    "\n",
    "from sklearn.feature_selection import SelectFromModel\n",
    "from sklearn.feature_selection import VarianceThreshold\n",
    "\n",
    "from sklearn.decomposition import PCA\n",
    "\n",
    "from sklearn.model_selection import StratifiedKFold\n",
    "from sklearn.model_selection import KFold\n",
    "from sklearn.model_selection import cross_val_score\n"
   ]
  },
  {
   "cell_type": "markdown",
   "metadata": {},
   "source": [
    "# Features selection"
   ]
  },
  {
   "cell_type": "code",
   "execution_count": 2,
   "metadata": {},
   "outputs": [],
   "source": [
    "\n",
    "df = pd.read_csv('preprocessed_train_regression.csv')\n"
   ]
  },
  {
   "cell_type": "code",
   "execution_count": 3,
   "metadata": {},
   "outputs": [],
   "source": [
    "# Sistemo i dati per regression tree\n",
    "\n",
    "# One-Hot Encoding \n",
    "# nb: pd.get_dummies rimuove le colonne direttamente\n",
    "\n",
    "# ## StoreId\n",
    "# df = pd.get_dummies(df, columns=['StoreID'], prefix='StoreID')\n",
    "\n",
    "df.drop('StoreID',axis=1)\n",
    "\n",
    " ## StoreType\n",
    "df = pd.get_dummies(df, columns=['StoreType'], prefix='StoreType')\n",
    "\n",
    " ## AssortmentType\n",
    "df = pd.get_dummies(df, columns=['AssortmentType'], prefix='AssortmentType')\n",
    "\n",
    "# ## Region\n",
    "df = pd.get_dummies(df, columns=['Region'], prefix='Region')\n",
    "\n",
    "# ## Events\n",
    "# df = pd.get_dummies(df, columns=['Events'], prefix='Events', dummy_na=True)\n",
    "### inutile se possiamo usare categorie con decision tree\n",
    "\n",
    "# numeric features to categories (strings)\n",
    "#df.StoreID = df.StoreID.astype(str)\n",
    "#df.Region = df.Region.astype(str)"
   ]
  },
  {
   "cell_type": "code",
   "execution_count": 4,
   "metadata": {},
   "outputs": [
    {
     "data": {
      "text/plain": [
       "CloudCover                                           8\n",
       "Date                                        2016-03-01\n",
       "DayOfWeek                                            1\n",
       "Events                                               2\n",
       "HasPromotions                                        0\n",
       "IsHoliday                                            0\n",
       "IsHoliday_tomorrow                                   1\n",
       "IsHoliday_yesterday                                  1\n",
       "IsOpen_tomorrow                                      1\n",
       "IsOpen_yesterday                                     1\n",
       "Max_Dew_PointC                                       1\n",
       "Max_Gust_SpeedKm_h                                  21\n",
       "Max_Humidity                                       100\n",
       "Max_Sea_Level_PressurehPa                         1032\n",
       "Max_TemperatureC                                     2\n",
       "Max_Wind_SpeedKm_h                                  21\n",
       "Mean_Dew_PointC                                     -1\n",
       "Mean_Humidity                                       82\n",
       "Mean_Sea_Level_PressurehPa                        1030\n",
       "Mean_TemperatureC                                    1\n",
       "Mean_Wind_SpeedKm_h                                 16\n",
       "Min_Dew_PointC                                      -2\n",
       "Min_Humidity                                        70\n",
       "Min_Sea_Level_PressurehPa                         1029\n",
       "Min_TemperatureC                                     1\n",
       "Month                                                3\n",
       "NearestCompetitor                                  326\n",
       "NumberOfSales                                     5676\n",
       "Precipitationmm                                      0\n",
       "Quarter                                              1\n",
       "Region_PopulationK                                2770\n",
       "StoreID                                           1000\n",
       "Week                                                 9\n",
       "Year                                              2016\n",
       "daily_sales                                    7675.45\n",
       "month_avg_sales                                 176476\n",
       "yearly_sales                               1.52997e+06\n",
       "regression_whole                                   NaN\n",
       "regression_twomonths                               NaN\n",
       "RegressionDistance                                   1\n",
       "StoreType_Hyper Market                               1\n",
       "StoreType_Shopping Center                            0\n",
       "StoreType_Standard Market                            0\n",
       "StoreType_Super Market                               0\n",
       "AssortmentType_General                               1\n",
       "AssortmentType_With Fish Department                  0\n",
       "AssortmentType_With Non-Food Department              0\n",
       "Region_0                                             0\n",
       "Region_1                                             0\n",
       "Region_2                                             0\n",
       "Region_3                                             0\n",
       "Region_4                                             0\n",
       "Region_5                                             0\n",
       "Region_6                                             0\n",
       "Region_7                                             1\n",
       "Region_8                                             0\n",
       "Region_9                                             0\n",
       "Region_10                                            0\n",
       "Name: 0, dtype: object"
      ]
     },
     "execution_count": 4,
     "metadata": {},
     "output_type": "execute_result"
    }
   ],
   "source": [
    "df.iloc[0]"
   ]
  },
  {
   "cell_type": "code",
   "execution_count": 5,
   "metadata": {},
   "outputs": [],
   "source": [
    "# No-Events (NaN) are considered as sunny days, with lowest value (0) on the events scale\n",
    "df['Events'] = df['Events'].fillna(0)\n",
    "df = df.drop('StoreID', axis = 1)"
   ]
  },
  {
   "cell_type": "code",
   "execution_count": 6,
   "metadata": {},
   "outputs": [
    {
     "data": {
      "text/plain": [
       "array([2, 1, 0, 3, 4], dtype=int64)"
      ]
     },
     "execution_count": 6,
     "metadata": {},
     "output_type": "execute_result"
    }
   ],
   "source": [
    "df=df.replace({'Rain':1, 'Thunderstorm':1, 'Fog':1, 'Snow': 2, 'Fog-Rain': 2, 'Rain-Thunderstorm': 2, 'Rain-Snow':2, 'Fog-Snow':2, 'Fog-Rain-Snow':3, 'Rain-Hail':3, 'Snow-Hail':3, 'Rain-Snow-Hail':3, 'Fog-Rain-Hail':3, 'Fog-Thunderstorm':3, 'Fog-Rain-Thunderstorm':4, 'Fog-Snow-Hail':4, 'Fog-Rain-Snow-Hail':4, 'Rain-Snow-Thunderstorm':4, 'Rain-Hail-Thunderstorm':4, 'Fog-Rain-Hail-Thunderstorm':4, 'Rain-Snow-Hail-Thunderstorm':4})\n",
    "\n",
    "df['Events'].unique()"
   ]
  },
  {
   "cell_type": "code",
   "execution_count": 7,
   "metadata": {},
   "outputs": [],
   "source": [
    "df = df.drop('Date', axis = 1)"
   ]
  },
  {
   "cell_type": "code",
   "execution_count": 8,
   "metadata": {},
   "outputs": [],
   "source": [
    "# split trainset in data and target\n",
    "y = df[\"NumberOfSales\"]\n",
    "X = df.drop('NumberOfSales', axis=1)"
   ]
  },
  {
   "cell_type": "code",
   "execution_count": 9,
   "metadata": {
    "scrolled": true
   },
   "outputs": [
    {
     "name": "stdout",
     "output_type": "stream",
     "text": [
      "Features with NaN:\n",
      "regression_whole\n",
      "regression_twomonths\n"
     ]
    }
   ],
   "source": [
    "# Looking for features with NaN values\n",
    "null_cols = []\n",
    "print('Features with NaN:')\n",
    "for col in X.columns:\n",
    "    if X[col].isnull().values.any():\n",
    "        print(col)\n",
    "        null_cols.append(col)"
   ]
  },
  {
   "cell_type": "code",
   "execution_count": 10,
   "metadata": {},
   "outputs": [],
   "source": [
    "# getting indices (rows) of all NaN values\n",
    "inds = pd.isnull(X).any(1).nonzero()[0]"
   ]
  },
  {
   "cell_type": "code",
   "execution_count": 11,
   "metadata": {},
   "outputs": [],
   "source": [
    "# drop all the rows with NaN values\n",
    "y = y.drop(y.index[inds])\n",
    "X = X.drop(X.index[inds])"
   ]
  },
  {
   "cell_type": "code",
   "execution_count": 12,
   "metadata": {},
   "outputs": [
    {
     "name": "stdout",
     "output_type": "stream",
     "text": [
      "X: (390642, 55)\n",
      "y: (390642,)\n"
     ]
    }
   ],
   "source": [
    "# checking shapes\n",
    "print('X: ' + str(X.shape))\n",
    "print('y: ' + str(y.shape))"
   ]
  },
  {
   "cell_type": "markdown",
   "metadata": {},
   "source": [
    "## Forest-Based features selection"
   ]
  },
  {
   "cell_type": "code",
   "execution_count": 13,
   "metadata": {},
   "outputs": [
    {
     "data": {
      "text/plain": [
       "RandomForestRegressor(bootstrap=True, criterion='mse', max_depth=None,\n",
       "           max_features='auto', max_leaf_nodes=None,\n",
       "           min_impurity_decrease=0.0, min_impurity_split=None,\n",
       "           min_samples_leaf=1, min_samples_split=2,\n",
       "           min_weight_fraction_leaf=0.0, n_estimators=250, n_jobs=-1,\n",
       "           oob_score=False, random_state=0, verbose=0, warm_start=False)"
      ]
     },
     "execution_count": 13,
     "metadata": {},
     "output_type": "execute_result"
    }
   ],
   "source": [
    "# fit random forest with 250 trees\n",
    "# forest = ExtraTreesRegressor(n_estimators=250, random_state=0)\n",
    "forest = RandomForestRegressor(n_estimators=250, random_state=0, n_jobs=-1)\n",
    "forest.fit(X, y)"
   ]
  },
  {
   "cell_type": "code",
   "execution_count": 14,
   "metadata": {},
   "outputs": [
    {
     "name": "stdout",
     "output_type": "stream",
     "text": [
      "Feature ranking:\n",
      "1. feature 34 regression_whole (0.528377)\n",
      "2. feature 32 month_avg_sales (0.199259)\n",
      "3. feature 3 HasPromotions (0.099005)\n",
      "4. feature 36 RegressionDistance (0.018761)\n",
      "5. feature 29 Week (0.018202)\n",
      "6. feature 1 DayOfWeek (0.016093)\n",
      "7. feature 8 IsOpen_yesterday (0.013370)\n",
      "8. feature 35 regression_twomonths (0.013200)\n",
      "9. feature 31 daily_sales (0.013068)\n",
      "10. feature 24 Month (0.009377)\n",
      "11. feature 25 NearestCompetitor (0.006099)\n",
      "12. feature 33 yearly_sales (0.005145)\n",
      "13. feature 21 Min_Humidity (0.003489)\n",
      "14. feature 7 IsOpen_tomorrow (0.003487)\n",
      "15. feature 6 IsHoliday_yesterday (0.003271)\n",
      "16. feature 12 Max_Sea_Level_PressurehPa (0.003193)\n",
      "17. feature 22 Min_Sea_Level_PressurehPa (0.003121)\n",
      "18. feature 5 IsHoliday_tomorrow (0.002951)\n",
      "19. feature 16 Mean_Humidity (0.002938)\n",
      "20. feature 30 Year (0.002582)\n",
      "21. feature 17 Mean_Sea_Level_PressurehPa (0.002456)\n",
      "22. feature 13 Max_TemperatureC (0.002439)\n",
      "23. feature 19 Mean_Wind_SpeedKm_h (0.002169)\n",
      "24. feature 23 Min_TemperatureC (0.001912)\n",
      "25. feature 10 Max_Gust_SpeedKm_h (0.001897)\n",
      "26. feature 20 Min_Dew_PointC (0.001855)\n",
      "27. feature 9 Max_Dew_PointC (0.001790)\n",
      "28. feature 15 Mean_Dew_PointC (0.001731)\n",
      "29. feature 28 Region_PopulationK (0.001731)\n",
      "30. feature 0 CloudCover (0.001648)\n",
      "31. feature 18 Mean_TemperatureC (0.001619)\n",
      "32. feature 14 Max_Wind_SpeedKm_h (0.001588)\n",
      "33. feature 26 Precipitationmm (0.001491)\n",
      "34. feature 11 Max_Humidity (0.001442)\n",
      "35. feature 37 StoreType_Hyper Market (0.001177)\n",
      "36. feature 4 IsHoliday (0.000985)\n",
      "37. feature 27 Quarter (0.000797)\n",
      "38. feature 2 Events (0.000737)\n",
      "39. feature 40 StoreType_Super Market (0.000614)\n",
      "40. feature 39 StoreType_Standard Market (0.000557)\n",
      "41. feature 54 Region_10 (0.000504)\n",
      "42. feature 43 AssortmentType_With Non-Food Department (0.000479)\n",
      "43. feature 38 StoreType_Shopping Center (0.000472)\n",
      "44. feature 41 AssortmentType_General (0.000461)\n",
      "45. feature 44 Region_0 (0.000398)\n",
      "46. feature 47 Region_3 (0.000394)\n",
      "47. feature 42 AssortmentType_With Fish Department (0.000336)\n",
      "48. feature 53 Region_9 (0.000295)\n",
      "49. feature 50 Region_6 (0.000243)\n",
      "50. feature 51 Region_7 (0.000225)\n",
      "51. feature 49 Region_5 (0.000167)\n",
      "52. feature 45 Region_1 (0.000136)\n",
      "53. feature 52 Region_8 (0.000113)\n",
      "54. feature 46 Region_2 (0.000100)\n",
      "55. feature 48 Region_4 (0.000053)\n"
     ]
    },
    {
     "data": {
      "image/png": "[encoded data removed]",
      "text/plain": [
       "<matplotlib.figure.Figure at 0x2c275851ac8>"
      ]
     },
     "metadata": {},
     "output_type": "display_data"
    }
   ],
   "source": [
    "# preso pari pari dal notebook di Lanzi\n",
    "\n",
    "importances = forest.feature_importances_\n",
    "std = np.std([tree.feature_importances_ for tree in forest.estimators_],\n",
    "             axis=0)\n",
    "indices = np.argsort(importances)[::-1]\n",
    "\n",
    "# Print the feature ranking\n",
    "print(\"Feature ranking:\")\n",
    "\n",
    "for f in range(X.shape[1]):\n",
    "    print(\"%d. feature %d %s (%f)\" % (f + 1, indices[f], X.columns[indices[f]], importances[indices[f]]))\n",
    "\n",
    "# Plot the feature importances of the forest\n",
    "plt.figure()\n",
    "plt.title(\"Feature importances\")\n",
    "plt.bar(range(X.shape[1]), importances[indices],\n",
    "       color=\"r\", yerr=std[indices], align=\"center\")\n",
    "plt.xticks(range(X.shape[1]), X.columns[indices],rotation=90)\n",
    "plt.xlim([-1, X.shape[1]])\n",
    "plt.show()"
   ]
  },
  {
   "cell_type": "code",
   "execution_count": 15,
   "metadata": {},
   "outputs": [],
   "source": [
    "feature_selection_model = SelectFromModel(forest, prefit=True)"
   ]
  },
  {
   "cell_type": "code",
   "execution_count": 16,
   "metadata": {},
   "outputs": [
    {
     "data": {
      "text/plain": [
       "(390642, 5)"
      ]
     },
     "execution_count": 16,
     "metadata": {},
     "output_type": "execute_result"
    }
   ],
   "source": [
    "X_selected_features_forest = feature_selection_model.transform(X)\n",
    "X_selected_features_forest.shape"
   ]
  },
  {
   "cell_type": "markdown",
   "metadata": {},
   "source": [
    "## PCA features selection"
   ]
  },
  {
   "cell_type": "code",
   "execution_count": 17,
   "metadata": {},
   "outputs": [],
   "source": [
    "from sklearn.decomposition import PCA\n",
    "%matplotlib inline\n",
    "\n",
    "full_pca_model = PCA()\n",
    "full_fitted_model = full_pca_model.fit(X)"
   ]
  },
  {
   "cell_type": "code",
   "execution_count": 18,
   "metadata": {},
   "outputs": [
    {
     "data": {
      "image/png": "[encoded data removed]",
      "text/plain": [
       "<matplotlib.figure.Figure at 0x2c275817198>"
      ]
     },
     "metadata": {},
     "output_type": "display_data"
    }
   ],
   "source": [
    "plt.semilogy(full_fitted_model.explained_variance_ratio_, '--o');"
   ]
  },
  {
   "cell_type": "code",
   "execution_count": 19,
   "metadata": {},
   "outputs": [
    {
     "data": {
      "text/plain": [
       "Text(0,0.5,'Cumulative Explained Variance Ratio')"
      ]
     },
     "execution_count": 19,
     "metadata": {},
     "output_type": "execute_result"
    },
    {
     "data": {
      "image/png": "[encoded data removed]",
      "text/plain": [
       "<matplotlib.figure.Figure at 0x2c275782278>"
      ]
     },
     "metadata": {},
     "output_type": "display_data"
    }
   ],
   "source": [
    "#Looking for a knee on the plot\n",
    "plt.semilogy(full_fitted_model.explained_variance_ratio_.cumsum(), '--o');\n",
    "plt.xticks(np.arange(0,56,1));\n",
    "plt.xlabel(\"Features\")\n",
    "plt.ylabel(\"Cumulative Explained Variance Ratio\")"
   ]
  },
  {
   "cell_type": "code",
   "execution_count": 20,
   "metadata": {},
   "outputs": [
    {
     "name": "stdout",
     "output_type": "stream",
     "text": [
      "Explained Variance: [9.97208630e-01 1.68686570e-03 9.99721232e-04 5.59292204e-05\n",
      " 4.31543324e-05]\n",
      "Reduced data set shape is  (390642, 5)\n"
     ]
    }
   ],
   "source": [
    "# getting Principal (n) Components and reducing the dataset\n",
    "feature_selection_pca_model = PCA(n_components=5)\n",
    "fitted_model = feature_selection_pca_model.fit(X)\n",
    "X_selected_features_pca = fitted_model.transform(X)\n",
    "print(\"Explained Variance: %s\" % fitted_model.explained_variance_ratio_)\n",
    "print(\"Reduced data set shape is \", X_selected_features_pca.shape)"
   ]
  },
  {
   "cell_type": "markdown",
   "metadata": {},
   "source": [
    "## Reduced Variance Feature Selection\n"
   ]
  },
  {
   "cell_type": "code",
   "execution_count": 23,
   "metadata": {},
   "outputs": [
    {
     "name": "stdout",
     "output_type": "stream",
     "text": [
      "Reduced data set shape is  (390642, 37)\n",
      "Selected features =  Index(['CloudCover', 'DayOfWeek', 'Events', 'HasPromotions', 'Max_Dew_PointC',\n",
      "       'Max_Gust_SpeedKm_h', 'Max_Humidity', 'Max_Sea_Level_PressurehPa',\n",
      "       'Max_TemperatureC', 'Max_Wind_SpeedKm_h', 'Mean_Dew_PointC',\n",
      "       'Mean_Humidity', 'Mean_Sea_Level_PressurehPa', 'Mean_TemperatureC',\n",
      "       'Mean_Wind_SpeedKm_h', 'Min_Dew_PointC', 'Min_Humidity',\n",
      "       'Min_Sea_Level_PressurehPa', 'Min_TemperatureC', 'Month',\n",
      "       'NearestCompetitor', 'Precipitationmm', 'Quarter', 'Region_PopulationK',\n",
      "       'Week', 'Year', 'daily_sales', 'month_avg_sales', 'yearly_sales',\n",
      "       'regression_whole', 'regression_twomonths', 'RegressionDistance',\n",
      "       'StoreType_Hyper Market', 'StoreType_Standard Market',\n",
      "       'AssortmentType_General', 'AssortmentType_With Non-Food Department',\n",
      "       'Region_9'],\n",
      "      dtype='object')\n"
     ]
    }
   ],
   "source": [
    "feature_selection_variance_model = VarianceThreshold(threshold=(.8 * (1 - .8)))\n",
    "X_selected_features_variance = feature_selection_variance_model.fit_transform(X)\n",
    "\n",
    "print(\"Reduced data set shape is \", X_selected_features_variance.shape)\n",
    "\n",
    "mask = feature_selection_variance_model.get_support() #list of booleans\n",
    "print(\"Selected features = \", X.columns[mask])"
   ]
  },
  {
   "cell_type": "markdown",
   "metadata": {},
   "source": [
    "## Univariate Feature Selection \n"
   ]
  },
  {
   "cell_type": "code",
   "execution_count": null,
   "metadata": {},
   "outputs": [],
   "source": [
    "from sklearn.feature_selection import SelectKBest\n",
    "from sklearn.feature_selection import mutual_info_regression\n",
    "\n",
    "feature_selection_univariate_model = SelectKBest(mutual_info_regression, k=4)\n",
    "X_selected_features_univariate = feature_selection_univariate_model.fit_transform(X,y)\n",
    "print(\"Reduced data set shape is \",X_selected_features_univariate.shape)\n",
    "\n",
    "mask = feature_selection_univariate_model.get_support() #list of booleans\n",
    "print(\"Selected features = \",X.columns[mask])"
   ]
  }
 ],
 "metadata": {
  "kernelspec": {
   "display_name": "Python 3",
   "language": "python",
   "name": "python3"
  },
  "language_info": {
   "codemirror_mode": {
    "name": "ipython",
    "version": 3
   },
   "file_extension": ".py",
   "mimetype": "text/x-python",
   "name": "python",
   "nbconvert_exporter": "python",
   "pygments_lexer": "ipython3",
   "version": "3.6.1"
  }
 },
 "nbformat": 4,
 "nbformat_minor": 2
}
