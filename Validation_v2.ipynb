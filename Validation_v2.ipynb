{
 "cells": [
  {
   "cell_type": "markdown",
   "metadata": {},
   "source": [
    "# TRAIN-TEST SPLIT"
   ]
  },
  {
   "cell_type": "code",
   "execution_count": 1,
   "metadata": {},
   "outputs": [],
   "source": [
    "import pandas as pd\n",
    "import numpy as np\n",
    "import datetime as dt\n",
    "from IPython.display import clear_output\n",
    "from sklearn.ensemble import RandomForestRegressor"
   ]
  },
  {
   "cell_type": "code",
   "execution_count": 2,
   "metadata": {},
   "outputs": [],
   "source": [
    "def find_nan_features(df):\n",
    "    null_cols = []\n",
    "    for col in df.columns:\n",
    "        if df[col].isnull().values.any():\n",
    "            null_cols.append(col)\n",
    "    return null_cols"
   ]
  },
  {
   "cell_type": "code",
   "execution_count": 3,
   "metadata": {},
   "outputs": [],
   "source": [
    "def remove_nan_rows(df):\n",
    "    # getting indices (rows) of all NaN values\n",
    "    inds = pd.isnull(df).any(1).nonzero()[0]\n",
    "\n",
    "    # drop all the rows with NaN values\n",
    "    return df.drop(df.index[inds])"
   ]
  },
  {
   "cell_type": "code",
   "execution_count": 4,
   "metadata": {},
   "outputs": [],
   "source": [
    "def split(df, train_fraction):\n",
    "    mindate = df.Date.min()\n",
    "    maxdate = df.Date.max()\n",
    "    splitdate = mindate + (maxdate - mindate) * train_fraction\n",
    "    train = df[df.Date < splitdate]\n",
    "    test = df[df.Date >= splitdate]\n",
    "    return train, test"
   ]
  },
  {
   "cell_type": "code",
   "execution_count": 5,
   "metadata": {},
   "outputs": [],
   "source": [
    "def get_x_y(df):\n",
    "    # split set in data and target\n",
    "    X = df.drop('NumberOfSales', axis=1)\n",
    "    y = df[\"NumberOfSales\"]\n",
    "    return X, y"
   ]
  },
  {
   "cell_type": "code",
   "execution_count": 6,
   "metadata": {},
   "outputs": [],
   "source": [
    "def train_model(X_train, y_train):\n",
    "    # fit random forest with 250 trees\n",
    "    forest = RandomForestRegressor(n_estimators=250, random_state=0)\n",
    "    forest.fit(X_train, y_train)\n",
    "    return forest"
   ]
  },
  {
   "cell_type": "code",
   "execution_count": 7,
   "metadata": {},
   "outputs": [],
   "source": [
    "def bip_metric(X_val, y_val, y_pred):\n",
    "    e_r = []\n",
    "    \n",
    "    # adjust shape\n",
    "    X_val = X_val.reset_index(drop=True)\n",
    "    y_pred = y_pred.tolist()\n",
    "    y_val = y_val.tolist()\n",
    "\n",
    "    for i in range(11):\n",
    "\n",
    "        error = 0\n",
    "        y_somma = 0\n",
    "\n",
    "        region = 'Region_' + str(i)\n",
    "        indexes = X_val.index[X_val[region] == 1].tolist()\n",
    "\n",
    "        for j in indexes:\n",
    "            \n",
    "            error += abs(y_pred[j] - y_val[j])\n",
    "            y_somma = y_somma + y_val[j]\n",
    "\n",
    "        e_r.append(error/y_somma)\n",
    "\n",
    "    return sum(e_r)/len(e_r)"
   ]
  },
  {
   "cell_type": "code",
   "execution_count": 8,
   "metadata": {},
   "outputs": [],
   "source": [
    "def eval_model(X_val, y_val, model):\n",
    "    y_pred = model.predict(X_val)\n",
    "    score = bip_metric(X_val, y_val, y_pred)\n",
    "    return score"
   ]
  },
  {
   "cell_type": "markdown",
   "metadata": {},
   "source": [
    "### Load dataset"
   ]
  },
  {
   "cell_type": "code",
   "execution_count": 9,
   "metadata": {
    "scrolled": true
   },
   "outputs": [],
   "source": [
    "# load preprocessed csv to dataframe\n",
    "df = pd.read_csv('preprocessed_train.csv')"
   ]
  },
  {
   "cell_type": "markdown",
   "metadata": {},
   "source": [
    "### Prepare dataset"
   ]
  },
  {
   "cell_type": "code",
   "execution_count": 10,
   "metadata": {},
   "outputs": [],
   "source": [
    "# Sistemo i dati per regression tree\n",
    "## StoreID\n",
    "df.drop('StoreID',axis=1)\n",
    "\n",
    "## StoreType\n",
    "df = pd.get_dummies(df, columns=['StoreType'], prefix='StoreType')\n",
    "\n",
    "## AssortmentType\n",
    "df = pd.get_dummies(df, columns=['AssortmentType'], prefix='AssortmentType')\n",
    "\n",
    "## Region\n",
    "df = pd.get_dummies(df, columns=['Region'], prefix='Region')\n",
    "\n",
    "## Events\n",
    "# No-Events (NaN) are considered as sunny days, with lowest value (0) on the events scale\n",
    "df['Events'] = df['Events'].fillna(0)\n",
    "df=df.replace({'Rain':1, 'Thunderstorm':1, 'Fog':1, 'Snow': 2, 'Fog-Rain': 2, 'Rain-Thunderstorm': 2, 'Rain-Snow':2, 'Fog-Snow':2, 'Fog-Rain-Snow':3, 'Rain-Hail':3, 'Snow-Hail':3, 'Rain-Snow-Hail':3, 'Fog-Rain-Hail':3, 'Fog-Thunderstorm':3, 'Fog-Rain-Thunderstorm':4, 'Fog-Snow-Hail':4, 'Fog-Rain-Snow-Hail':4, 'Rain-Snow-Thunderstorm':4, 'Rain-Hail-Thunderstorm':4, 'Fog-Rain-Hail-Thunderstorm':4, 'Rain-Snow-Hail-Thunderstorm':4})\n"
   ]
  },
  {
   "cell_type": "code",
   "execution_count": 11,
   "metadata": {},
   "outputs": [
    {
     "name": "stdout",
     "output_type": "stream",
     "text": [
      "Features with NaN:\n",
      "IsOpen_yesterday\n",
      "IsOpen_tomorrow\n",
      "IsHoliday_yesterday\n",
      "IsHoliday_tomorrow\n",
      "NumberOfSales_yesterday\n",
      "NumberOfSales_lastweek\n",
      "NumberOfSales_lastmonth\n"
     ]
    }
   ],
   "source": [
    "# Look for features with NaN values\n",
    "null_cols = find_nan_features(df)\n",
    "print('Features with NaN:')\n",
    "for col in null_cols:\n",
    "    print(col)\n",
    "    \n",
    "# drop all rows with NaN values\n",
    "df = remove_nan_rows(df)"
   ]
  },
  {
   "cell_type": "markdown",
   "metadata": {},
   "source": [
    "### Split"
   ]
  },
  {
   "cell_type": "code",
   "execution_count": 12,
   "metadata": {},
   "outputs": [],
   "source": [
    "# convert date to datetime\n",
    "df['Date'] = pd.to_datetime(df['Date'], format='%Y-%m-%d')"
   ]
  },
  {
   "cell_type": "code",
   "execution_count": 13,
   "metadata": {},
   "outputs": [],
   "source": [
    "# split in train and validation\n",
    "train_fraction = 21/24\n",
    "df_train, df_validation = split(df, train_fraction)"
   ]
  },
  {
   "cell_type": "code",
   "execution_count": 14,
   "metadata": {},
   "outputs": [],
   "source": [
    "# remove Date\n",
    "df_train = df_train.drop('Date', axis=1)\n",
    "df_validation = df_validation.drop('Date', axis=1)"
   ]
  },
  {
   "cell_type": "markdown",
   "metadata": {},
   "source": [
    "### Train model"
   ]
  },
  {
   "cell_type": "code",
   "execution_count": 15,
   "metadata": {},
   "outputs": [
    {
     "name": "stdout",
     "output_type": "stream",
     "text": [
      "X: (371913, 52)\n",
      "y: (371913,)\n"
     ]
    }
   ],
   "source": [
    "X_train, y_train = get_x_y(df_train)\n",
    "\n",
    "# checking shapes\n",
    "print('X: ' + str(X_train.shape))\n",
    "print('y: ' + str(y_train.shape))"
   ]
  },
  {
   "cell_type": "code",
   "execution_count": 16,
   "metadata": {},
   "outputs": [],
   "source": [
    "model = train_model(X_train, y_train)"
   ]
  },
  {
   "cell_type": "markdown",
   "metadata": {},
   "source": [
    "### Evaluate model"
   ]
  },
  {
   "cell_type": "code",
   "execution_count": 17,
   "metadata": {},
   "outputs": [
    {
     "name": "stdout",
     "output_type": "stream",
     "text": [
      "X: (51597, 52)\n",
      "y: (51597,)\n"
     ]
    }
   ],
   "source": [
    "X_val, y_val = get_x_y(df_validation)\n",
    "\n",
    "# checking shapes\n",
    "print('X: ' + str(X_val.shape))\n",
    "print('y: ' + str(y_val.shape))"
   ]
  },
  {
   "cell_type": "code",
   "execution_count": 18,
   "metadata": {},
   "outputs": [
    {
     "name": "stdout",
     "output_type": "stream",
     "text": [
      "0.1301051044448495\n"
     ]
    }
   ],
   "source": [
    "score = eval_model(X_val, y_val, model)\n",
    "print(score)"
   ]
  },
  {
   "cell_type": "code",
   "execution_count": null,
   "metadata": {},
   "outputs": [],
   "source": []
  }
 ],
 "metadata": {
  "kernelspec": {
   "display_name": "Python 3",
   "language": "python",
   "name": "python3"
  },
  "language_info": {
   "codemirror_mode": {
    "name": "ipython",
    "version": 3
   },
   "file_extension": ".py",
   "mimetype": "text/x-python",
   "name": "python",
   "nbconvert_exporter": "python",
   "pygments_lexer": "ipython3",
   "version": "3.6.5"
  }
 },
 "nbformat": 4,
 "nbformat_minor": 2
}
